{
  "cells": [
    {
      "cell_type": "code",
      "execution_count": 1,
      "metadata": {
        "id": "YeuAheYyhdZw"
      },
      "outputs": [],
      "source": [
        "import torch.nn as nn\n",
        "import torch.nn.functional as F\n",
        "from torch.utils.data import DataLoader,TensorDataset\n",
        "from sklearn.model_selection import train_test_split\n",
        "import numpy as np\n",
        "import matplotlib.pyplot as plt\n",
        "from matplotlib import style\n",
        "style.use('dark_background')\n",
        "from IPython import display\n",
        "import seaborn as sn\n",
        "from sklearn.metrics import confusion_matrix,f1_score,precision_score, recall_score, accuracy_score, ConfusionMatrixDisplay\n",
        "import pandas as pd"
      ]
    },
    {
      "cell_type": "code",
      "execution_count": 2,
      "metadata": {
        "colab": {
          "base_uri": "https://localhost:8080/"
        },
        "id": "P_KttA9t2lDx",
        "outputId": "4c64b8fe-168d-432e-a40a-8b6309ccd6ee"
      },
      "outputs": [
        {
          "data": {
            "text/plain": [
              "True"
            ]
          },
          "execution_count": 2,
          "metadata": {},
          "output_type": "execute_result"
        }
      ],
      "source": [
        "import torch\n",
        "torch.cuda.is_available()"
      ]
    },
    {
      "cell_type": "code",
      "execution_count": 3,
      "metadata": {
        "colab": {
          "base_uri": "https://localhost:8080/"
        },
        "id": "BBUD2RDa2lD1",
        "outputId": "4e7d07ae-22f8-4e77-a678-578473d3b833"
      },
      "outputs": [
        {
          "name": "stdout",
          "output_type": "stream",
          "text": [
            "cuda:0\n"
          ]
        }
      ],
      "source": [
        "device = torch.device('cuda:0' if torch.cuda.is_available() else 'cpu')\n",
        "print(device)"
      ]
    },
    {
      "cell_type": "code",
      "execution_count": 4,
      "metadata": {
        "colab": {
          "base_uri": "https://localhost:8080/"
        },
        "id": "nk_v_c41L5VD",
        "outputId": "f7d65959-cd38-4bec-8e09-2ac1a00af3de"
      },
      "outputs": [
        {
          "name": "stdout",
          "output_type": "stream",
          "text": [
            "Mounted at /content/drive\n"
          ]
        }
      ],
      "source": [
        "from google.colab import drive\n",
        "drive.mount('/content/drive')"
      ]
    },
    {
      "cell_type": "code",
      "execution_count": 5,
      "metadata": {
        "colab": {
          "base_uri": "https://localhost:8080/"
        },
        "id": "YF1GxO9dMS4f",
        "outputId": "f2141572-3818-41f8-b25a-9e9168e235db"
      },
      "outputs": [
        {
          "name": "stdout",
          "output_type": "stream",
          "text": [
            "/content/drive/MyDrive/emerging-technologies/Assignment-01\n"
          ]
        }
      ],
      "source": [
        "%cd /content/drive/MyDrive/emerging-technologies/Assignment-01"
      ]
    },
    {
      "cell_type": "code",
      "execution_count": 6,
      "metadata": {
        "id": "8469857z2lD2"
      },
      "outputs": [],
      "source": [
        "df2 = pd.read_csv('WESAD/user2.csv', header = None)\n",
        "df3 = pd.read_csv('WESAD/user3.csv', header = None)\n",
        "df4 = pd.read_csv('WESAD/user4.csv', header = None)\n",
        "df5 = pd.read_csv('WESAD/user5.csv', header = None)\n",
        "df6 = pd.read_csv('WESAD/user6.csv', header = None)"
      ]
    },
    {
      "cell_type": "code",
      "execution_count": 7,
      "metadata": {
        "colab": {
          "base_uri": "https://localhost:8080/",
          "height": 256
        },
        "id": "-nP54T-L2lD3",
        "outputId": "df009591-8507-4db5-b5f9-3f46b3b2e14d"
      },
      "outputs": [
        {
          "data": {
            "application/vnd.google.colaboratory.intrinsic+json": {
              "type": "dataframe",
              "variable_name": "df2"
            },
            "text/html": [
              "\n",
              "  <div id=\"df-088c676e-4684-433c-9b36-2e3e0274fc45\" class=\"colab-df-container\">\n",
              "    <div>\n",
              "<style scoped>\n",
              "    .dataframe tbody tr th:only-of-type {\n",
              "        vertical-align: middle;\n",
              "    }\n",
              "\n",
              "    .dataframe tbody tr th {\n",
              "        vertical-align: top;\n",
              "    }\n",
              "\n",
              "    .dataframe thead th {\n",
              "        text-align: right;\n",
              "    }\n",
              "</style>\n",
              "<table border=\"1\" class=\"dataframe\">\n",
              "  <thead>\n",
              "    <tr style=\"text-align: right;\">\n",
              "      <th></th>\n",
              "      <th>0</th>\n",
              "      <th>1</th>\n",
              "      <th>2</th>\n",
              "      <th>3</th>\n",
              "      <th>4</th>\n",
              "      <th>5</th>\n",
              "      <th>6</th>\n",
              "      <th>7</th>\n",
              "      <th>8</th>\n",
              "      <th>9</th>\n",
              "      <th>...</th>\n",
              "      <th>247</th>\n",
              "      <th>248</th>\n",
              "      <th>249</th>\n",
              "      <th>250</th>\n",
              "      <th>251</th>\n",
              "      <th>252</th>\n",
              "      <th>253</th>\n",
              "      <th>254</th>\n",
              "      <th>255</th>\n",
              "      <th>256</th>\n",
              "    </tr>\n",
              "  </thead>\n",
              "  <tbody>\n",
              "    <tr>\n",
              "      <th>0</th>\n",
              "      <td>-0.874131</td>\n",
              "      <td>-0.830702</td>\n",
              "      <td>-0.780308</td>\n",
              "      <td>-0.769246</td>\n",
              "      <td>-0.777440</td>\n",
              "      <td>-0.799565</td>\n",
              "      <td>-0.838897</td>\n",
              "      <td>-0.886832</td>\n",
              "      <td>-0.953205</td>\n",
              "      <td>-1.030640</td>\n",
              "      <td>...</td>\n",
              "      <td>-0.096506</td>\n",
              "      <td>-0.103881</td>\n",
              "      <td>-0.110436</td>\n",
              "      <td>-0.102242</td>\n",
              "      <td>-0.085854</td>\n",
              "      <td>-0.045703</td>\n",
              "      <td>0.018212</td>\n",
              "      <td>0.073113</td>\n",
              "      <td>0.120639</td>\n",
              "      <td>0</td>\n",
              "    </tr>\n",
              "    <tr>\n",
              "      <th>1</th>\n",
              "      <td>0.161200</td>\n",
              "      <td>0.175540</td>\n",
              "      <td>0.151777</td>\n",
              "      <td>0.107118</td>\n",
              "      <td>0.047711</td>\n",
              "      <td>-0.012926</td>\n",
              "      <td>-0.069466</td>\n",
              "      <td>-0.090770</td>\n",
              "      <td>-0.093229</td>\n",
              "      <td>-0.101013</td>\n",
              "      <td>...</td>\n",
              "      <td>-0.916331</td>\n",
              "      <td>-0.914693</td>\n",
              "      <td>-0.903630</td>\n",
              "      <td>-0.857333</td>\n",
              "      <td>-0.797926</td>\n",
              "      <td>-0.745483</td>\n",
              "      <td>-0.718443</td>\n",
              "      <td>-0.706971</td>\n",
              "      <td>-0.723359</td>\n",
              "      <td>0</td>\n",
              "    </tr>\n",
              "    <tr>\n",
              "      <th>2</th>\n",
              "      <td>-0.763101</td>\n",
              "      <td>-0.807759</td>\n",
              "      <td>-0.834800</td>\n",
              "      <td>-0.852827</td>\n",
              "      <td>-0.867986</td>\n",
              "      <td>-0.850368</td>\n",
              "      <td>-0.783996</td>\n",
              "      <td>-0.715984</td>\n",
              "      <td>-0.650021</td>\n",
              "      <td>-0.585288</td>\n",
              "      <td>...</td>\n",
              "      <td>0.069016</td>\n",
              "      <td>0.107938</td>\n",
              "      <td>0.120639</td>\n",
              "      <td>0.124736</td>\n",
              "      <td>0.127604</td>\n",
              "      <td>0.114083</td>\n",
              "      <td>0.089501</td>\n",
              "      <td>0.057134</td>\n",
              "      <td>0.007969</td>\n",
              "      <td>0</td>\n",
              "    </tr>\n",
              "    <tr>\n",
              "      <th>3</th>\n",
              "      <td>-0.042015</td>\n",
              "      <td>-0.057994</td>\n",
              "      <td>-0.053077</td>\n",
              "      <td>-0.017023</td>\n",
              "      <td>0.031323</td>\n",
              "      <td>0.082946</td>\n",
              "      <td>0.135388</td>\n",
              "      <td>0.155874</td>\n",
              "      <td>0.163248</td>\n",
              "      <td>0.144402</td>\n",
              "      <td>...</td>\n",
              "      <td>0.141534</td>\n",
              "      <td>0.109167</td>\n",
              "      <td>0.089501</td>\n",
              "      <td>0.050169</td>\n",
              "      <td>-0.005551</td>\n",
              "      <td>-0.014155</td>\n",
              "      <td>0.000594</td>\n",
              "      <td>0.045253</td>\n",
              "      <td>0.087043</td>\n",
              "      <td>0</td>\n",
              "    </tr>\n",
              "    <tr>\n",
              "      <th>4</th>\n",
              "      <td>0.128014</td>\n",
              "      <td>0.193976</td>\n",
              "      <td>0.258301</td>\n",
              "      <td>0.295174</td>\n",
              "      <td>0.293535</td>\n",
              "      <td>0.262398</td>\n",
              "      <td>0.212413</td>\n",
              "      <td>0.159151</td>\n",
              "      <td>0.098515</td>\n",
              "      <td>0.053447</td>\n",
              "      <td>...</td>\n",
              "      <td>-1.437070</td>\n",
              "      <td>-1.522289</td>\n",
              "      <td>-1.572683</td>\n",
              "      <td>-1.611605</td>\n",
              "      <td>-1.624716</td>\n",
              "      <td>-1.624716</td>\n",
              "      <td>-1.610786</td>\n",
              "      <td>-1.596856</td>\n",
              "      <td>-1.577190</td>\n",
              "      <td>0</td>\n",
              "    </tr>\n",
              "  </tbody>\n",
              "</table>\n",
              "<p>5 rows × 257 columns</p>\n",
              "</div>\n",
              "    <div class=\"colab-df-buttons\">\n",
              "\n",
              "  <div class=\"colab-df-container\">\n",
              "    <button class=\"colab-df-convert\" onclick=\"convertToInteractive('df-088c676e-4684-433c-9b36-2e3e0274fc45')\"\n",
              "            title=\"Convert this dataframe to an interactive table.\"\n",
              "            style=\"display:none;\">\n",
              "\n",
              "  <svg xmlns=\"http://www.w3.org/2000/svg\" height=\"24px\" viewBox=\"0 -960 960 960\">\n",
              "    <path d=\"M120-120v-720h720v720H120Zm60-500h600v-160H180v160Zm220 220h160v-160H400v160Zm0 220h160v-160H400v160ZM180-400h160v-160H180v160Zm440 0h160v-160H620v160ZM180-180h160v-160H180v160Zm440 0h160v-160H620v160Z\"/>\n",
              "  </svg>\n",
              "    </button>\n",
              "\n",
              "  <style>\n",
              "    .colab-df-container {\n",
              "      display:flex;\n",
              "      gap: 12px;\n",
              "    }\n",
              "\n",
              "    .colab-df-convert {\n",
              "      background-color: #E8F0FE;\n",
              "      border: none;\n",
              "      border-radius: 50%;\n",
              "      cursor: pointer;\n",
              "      display: none;\n",
              "      fill: #1967D2;\n",
              "      height: 32px;\n",
              "      padding: 0 0 0 0;\n",
              "      width: 32px;\n",
              "    }\n",
              "\n",
              "    .colab-df-convert:hover {\n",
              "      background-color: #E2EBFA;\n",
              "      box-shadow: 0px 1px 2px rgba(60, 64, 67, 0.3), 0px 1px 3px 1px rgba(60, 64, 67, 0.15);\n",
              "      fill: #174EA6;\n",
              "    }\n",
              "\n",
              "    .colab-df-buttons div {\n",
              "      margin-bottom: 4px;\n",
              "    }\n",
              "\n",
              "    [theme=dark] .colab-df-convert {\n",
              "      background-color: #3B4455;\n",
              "      fill: #D2E3FC;\n",
              "    }\n",
              "\n",
              "    [theme=dark] .colab-df-convert:hover {\n",
              "      background-color: #434B5C;\n",
              "      box-shadow: 0px 1px 3px 1px rgba(0, 0, 0, 0.15);\n",
              "      filter: drop-shadow(0px 1px 2px rgba(0, 0, 0, 0.3));\n",
              "      fill: #FFFFFF;\n",
              "    }\n",
              "  </style>\n",
              "\n",
              "    <script>\n",
              "      const buttonEl =\n",
              "        document.querySelector('#df-088c676e-4684-433c-9b36-2e3e0274fc45 button.colab-df-convert');\n",
              "      buttonEl.style.display =\n",
              "        google.colab.kernel.accessAllowed ? 'block' : 'none';\n",
              "\n",
              "      async function convertToInteractive(key) {\n",
              "        const element = document.querySelector('#df-088c676e-4684-433c-9b36-2e3e0274fc45');\n",
              "        const dataTable =\n",
              "          await google.colab.kernel.invokeFunction('convertToInteractive',\n",
              "                                                    [key], {});\n",
              "        if (!dataTable) return;\n",
              "\n",
              "        const docLinkHtml = 'Like what you see? Visit the ' +\n",
              "          '<a target=\"_blank\" href=https://colab.research.google.com/notebooks/data_table.ipynb>data table notebook</a>'\n",
              "          + ' to learn more about interactive tables.';\n",
              "        element.innerHTML = '';\n",
              "        dataTable['output_type'] = 'display_data';\n",
              "        await google.colab.output.renderOutput(dataTable, element);\n",
              "        const docLink = document.createElement('div');\n",
              "        docLink.innerHTML = docLinkHtml;\n",
              "        element.appendChild(docLink);\n",
              "      }\n",
              "    </script>\n",
              "  </div>\n",
              "\n",
              "\n",
              "<div id=\"df-2c49c91d-fa79-4e00-a6b5-943275e20278\">\n",
              "  <button class=\"colab-df-quickchart\" onclick=\"quickchart('df-2c49c91d-fa79-4e00-a6b5-943275e20278')\"\n",
              "            title=\"Suggest charts\"\n",
              "            style=\"display:none;\">\n",
              "\n",
              "<svg xmlns=\"http://www.w3.org/2000/svg\" height=\"24px\"viewBox=\"0 0 24 24\"\n",
              "     width=\"24px\">\n",
              "    <g>\n",
              "        <path d=\"M19 3H5c-1.1 0-2 .9-2 2v14c0 1.1.9 2 2 2h14c1.1 0 2-.9 2-2V5c0-1.1-.9-2-2-2zM9 17H7v-7h2v7zm4 0h-2V7h2v10zm4 0h-2v-4h2v4z\"/>\n",
              "    </g>\n",
              "</svg>\n",
              "  </button>\n",
              "\n",
              "<style>\n",
              "  .colab-df-quickchart {\n",
              "      --bg-color: #E8F0FE;\n",
              "      --fill-color: #1967D2;\n",
              "      --hover-bg-color: #E2EBFA;\n",
              "      --hover-fill-color: #174EA6;\n",
              "      --disabled-fill-color: #AAA;\n",
              "      --disabled-bg-color: #DDD;\n",
              "  }\n",
              "\n",
              "  [theme=dark] .colab-df-quickchart {\n",
              "      --bg-color: #3B4455;\n",
              "      --fill-color: #D2E3FC;\n",
              "      --hover-bg-color: #434B5C;\n",
              "      --hover-fill-color: #FFFFFF;\n",
              "      --disabled-bg-color: #3B4455;\n",
              "      --disabled-fill-color: #666;\n",
              "  }\n",
              "\n",
              "  .colab-df-quickchart {\n",
              "    background-color: var(--bg-color);\n",
              "    border: none;\n",
              "    border-radius: 50%;\n",
              "    cursor: pointer;\n",
              "    display: none;\n",
              "    fill: var(--fill-color);\n",
              "    height: 32px;\n",
              "    padding: 0;\n",
              "    width: 32px;\n",
              "  }\n",
              "\n",
              "  .colab-df-quickchart:hover {\n",
              "    background-color: var(--hover-bg-color);\n",
              "    box-shadow: 0 1px 2px rgba(60, 64, 67, 0.3), 0 1px 3px 1px rgba(60, 64, 67, 0.15);\n",
              "    fill: var(--button-hover-fill-color);\n",
              "  }\n",
              "\n",
              "  .colab-df-quickchart-complete:disabled,\n",
              "  .colab-df-quickchart-complete:disabled:hover {\n",
              "    background-color: var(--disabled-bg-color);\n",
              "    fill: var(--disabled-fill-color);\n",
              "    box-shadow: none;\n",
              "  }\n",
              "\n",
              "  .colab-df-spinner {\n",
              "    border: 2px solid var(--fill-color);\n",
              "    border-color: transparent;\n",
              "    border-bottom-color: var(--fill-color);\n",
              "    animation:\n",
              "      spin 1s steps(1) infinite;\n",
              "  }\n",
              "\n",
              "  @keyframes spin {\n",
              "    0% {\n",
              "      border-color: transparent;\n",
              "      border-bottom-color: var(--fill-color);\n",
              "      border-left-color: var(--fill-color);\n",
              "    }\n",
              "    20% {\n",
              "      border-color: transparent;\n",
              "      border-left-color: var(--fill-color);\n",
              "      border-top-color: var(--fill-color);\n",
              "    }\n",
              "    30% {\n",
              "      border-color: transparent;\n",
              "      border-left-color: var(--fill-color);\n",
              "      border-top-color: var(--fill-color);\n",
              "      border-right-color: var(--fill-color);\n",
              "    }\n",
              "    40% {\n",
              "      border-color: transparent;\n",
              "      border-right-color: var(--fill-color);\n",
              "      border-top-color: var(--fill-color);\n",
              "    }\n",
              "    60% {\n",
              "      border-color: transparent;\n",
              "      border-right-color: var(--fill-color);\n",
              "    }\n",
              "    80% {\n",
              "      border-color: transparent;\n",
              "      border-right-color: var(--fill-color);\n",
              "      border-bottom-color: var(--fill-color);\n",
              "    }\n",
              "    90% {\n",
              "      border-color: transparent;\n",
              "      border-bottom-color: var(--fill-color);\n",
              "    }\n",
              "  }\n",
              "</style>\n",
              "\n",
              "  <script>\n",
              "    async function quickchart(key) {\n",
              "      const quickchartButtonEl =\n",
              "        document.querySelector('#' + key + ' button');\n",
              "      quickchartButtonEl.disabled = true;  // To prevent multiple clicks.\n",
              "      quickchartButtonEl.classList.add('colab-df-spinner');\n",
              "      try {\n",
              "        const charts = await google.colab.kernel.invokeFunction(\n",
              "            'suggestCharts', [key], {});\n",
              "      } catch (error) {\n",
              "        console.error('Error during call to suggestCharts:', error);\n",
              "      }\n",
              "      quickchartButtonEl.classList.remove('colab-df-spinner');\n",
              "      quickchartButtonEl.classList.add('colab-df-quickchart-complete');\n",
              "    }\n",
              "    (() => {\n",
              "      let quickchartButtonEl =\n",
              "        document.querySelector('#df-2c49c91d-fa79-4e00-a6b5-943275e20278 button');\n",
              "      quickchartButtonEl.style.display =\n",
              "        google.colab.kernel.accessAllowed ? 'block' : 'none';\n",
              "    })();\n",
              "  </script>\n",
              "</div>\n",
              "\n",
              "    </div>\n",
              "  </div>\n"
            ],
            "text/plain": [
              "        0         1         2         3         4         5         6    \\\n",
              "0 -0.874131 -0.830702 -0.780308 -0.769246 -0.777440 -0.799565 -0.838897   \n",
              "1  0.161200  0.175540  0.151777  0.107118  0.047711 -0.012926 -0.069466   \n",
              "2 -0.763101 -0.807759 -0.834800 -0.852827 -0.867986 -0.850368 -0.783996   \n",
              "3 -0.042015 -0.057994 -0.053077 -0.017023  0.031323  0.082946  0.135388   \n",
              "4  0.128014  0.193976  0.258301  0.295174  0.293535  0.262398  0.212413   \n",
              "\n",
              "        7         8         9    ...       247       248       249       250  \\\n",
              "0 -0.886832 -0.953205 -1.030640  ... -0.096506 -0.103881 -0.110436 -0.102242   \n",
              "1 -0.090770 -0.093229 -0.101013  ... -0.916331 -0.914693 -0.903630 -0.857333   \n",
              "2 -0.715984 -0.650021 -0.585288  ...  0.069016  0.107938  0.120639  0.124736   \n",
              "3  0.155874  0.163248  0.144402  ...  0.141534  0.109167  0.089501  0.050169   \n",
              "4  0.159151  0.098515  0.053447  ... -1.437070 -1.522289 -1.572683 -1.611605   \n",
              "\n",
              "        251       252       253       254       255  256  \n",
              "0 -0.085854 -0.045703  0.018212  0.073113  0.120639    0  \n",
              "1 -0.797926 -0.745483 -0.718443 -0.706971 -0.723359    0  \n",
              "2  0.127604  0.114083  0.089501  0.057134  0.007969    0  \n",
              "3 -0.005551 -0.014155  0.000594  0.045253  0.087043    0  \n",
              "4 -1.624716 -1.624716 -1.610786 -1.596856 -1.577190    0  \n",
              "\n",
              "[5 rows x 257 columns]"
            ]
          },
          "execution_count": 7,
          "metadata": {},
          "output_type": "execute_result"
        }
      ],
      "source": [
        "df2.head()"
      ]
    },
    {
      "cell_type": "code",
      "execution_count": 8,
      "metadata": {
        "id": "5KovvWb42lD4"
      },
      "outputs": [],
      "source": [
        "data = pd.concat([df2, df3, df4, df5, df6])"
      ]
    },
    {
      "cell_type": "code",
      "execution_count": 9,
      "metadata": {
        "colab": {
          "base_uri": "https://localhost:8080/"
        },
        "id": "qy6P-ovO2lD5",
        "outputId": "6652477c-6f45-4ada-ff77-013525a80062"
      },
      "outputs": [
        {
          "data": {
            "text/plain": [
              "(29689, 257)"
            ]
          },
          "execution_count": 9,
          "metadata": {},
          "output_type": "execute_result"
        }
      ],
      "source": [
        "data.shape"
      ]
    },
    {
      "cell_type": "code",
      "execution_count": 10,
      "metadata": {
        "colab": {
          "base_uri": "https://localhost:8080/",
          "height": 210
        },
        "id": "rxJBisRi2lD6",
        "outputId": "4596b6c3-9cc1-499b-e85c-4863ed2b2d55"
      },
      "outputs": [
        {
          "data": {
            "text/html": [
              "<div>\n",
              "<style scoped>\n",
              "    .dataframe tbody tr th:only-of-type {\n",
              "        vertical-align: middle;\n",
              "    }\n",
              "\n",
              "    .dataframe tbody tr th {\n",
              "        vertical-align: top;\n",
              "    }\n",
              "\n",
              "    .dataframe thead th {\n",
              "        text-align: right;\n",
              "    }\n",
              "</style>\n",
              "<table border=\"1\" class=\"dataframe\">\n",
              "  <thead>\n",
              "    <tr style=\"text-align: right;\">\n",
              "      <th></th>\n",
              "      <th>count</th>\n",
              "    </tr>\n",
              "    <tr>\n",
              "      <th>256</th>\n",
              "      <th></th>\n",
              "    </tr>\n",
              "  </thead>\n",
              "  <tbody>\n",
              "    <tr>\n",
              "      <th>1</th>\n",
              "      <td>15912</td>\n",
              "    </tr>\n",
              "    <tr>\n",
              "      <th>2</th>\n",
              "      <td>8707</td>\n",
              "    </tr>\n",
              "    <tr>\n",
              "      <th>0</th>\n",
              "      <td>5070</td>\n",
              "    </tr>\n",
              "  </tbody>\n",
              "</table>\n",
              "</div><br><label><b>dtype:</b> int64</label>"
            ],
            "text/plain": [
              "256\n",
              "1    15912\n",
              "2     8707\n",
              "0     5070\n",
              "Name: count, dtype: int64"
            ]
          },
          "execution_count": 10,
          "metadata": {},
          "output_type": "execute_result"
        }
      ],
      "source": [
        "data[256].value_counts()"
      ]
    },
    {
      "cell_type": "code",
      "execution_count": 11,
      "metadata": {
        "colab": {
          "base_uri": "https://localhost:8080/",
          "height": 693
        },
        "id": "jRYn7b9g2lD7",
        "outputId": "0a94bbc7-01d2-467a-f3d5-63dad560fb6f"
      },
      "outputs": [
        {
          "data": {
            "text/plain": [
              "<Axes: >"
            ]
          },
          "execution_count": 11,
          "metadata": {},
          "output_type": "execute_result"
        },
        {
          "data": {
            "image/png": "[encoded data removed]",
            "text/plain": [
              "<Figure size 1200x800 with 1 Axes>"
            ]
          },
          "metadata": {},
          "output_type": "display_data"
        }
      ],
      "source": [
        "plt.figure(figsize = (12,8))\n",
        "data[256].hist()"
      ]
    },
    {
      "cell_type": "code",
      "execution_count": 12,
      "metadata": {
        "id": "drumjw6b2lD7"
      },
      "outputs": [],
      "source": [
        "X = data[data.columns[0:-1]].values\n",
        "y = data[data.columns[-1]].values"
      ]
    },
    {
      "cell_type": "code",
      "execution_count": 13,
      "metadata": {
        "id": "G6XSahU-2lD8"
      },
      "outputs": [],
      "source": [
        "X_train, X_test, y_train, y_test = train_test_split(X, y, test_size=0.2, random_state=42)"
      ]
    },
    {
      "cell_type": "markdown",
      "metadata": {
        "id": "OhLQ2YSvpiGj"
      },
      "source": [
        "# Transform to Tensor and Using DataLoader"
      ]
    },
    {
      "cell_type": "code",
      "execution_count": 14,
      "metadata": {
        "id": "Y_tZ1ymVp0Sf"
      },
      "outputs": [],
      "source": [
        "# Convert to tensor\n",
        "train_data = torch.tensor(X_train, dtype = torch.float32 )\n",
        "train_labels = torch.tensor(y_train, dtype = torch.long)\n",
        "test_data = torch.tensor(X_test, dtype = torch.float32 )\n",
        "test_labels = torch.tensor(y_test, dtype = torch.long)\n",
        "\n",
        "\n",
        "# Convert to PyTorch Datasets\n",
        "train_data = TensorDataset(train_data,train_labels)\n",
        "test_data  = TensorDataset(test_data,test_labels)\n",
        "\n",
        "# Step 4: translate into dataloader objects\n",
        "batchsize    = 32\n",
        "train_loader = DataLoader(train_data,batch_size=batchsize,shuffle=True,drop_last=True)\n",
        "test_loader  = DataLoader(test_data,batch_size=batchsize, drop_last=True)"
      ]
    },
    {
      "cell_type": "markdown",
      "metadata": {
        "id": "vuqxApDz2lD_"
      },
      "source": [
        "# Observe the batches of training and test data"
      ]
    },
    {
      "cell_type": "code",
      "execution_count": 15,
      "metadata": {
        "colab": {
          "base_uri": "https://localhost:8080/"
        },
        "id": "gD7q7dIq2lD_",
        "outputId": "da2fd6ea-2056-43de-b30a-a43d4091b16c"
      },
      "outputs": [
        {
          "name": "stdout",
          "output_type": "stream",
          "text": [
            "torch.Size([32, 256])\n",
            "torch.Size([32])\n"
          ]
        }
      ],
      "source": [
        "for x,y in train_loader:\n",
        "    break\n",
        "print(x.shape)\n",
        "print(y.shape)"
      ]
    },
    {
      "cell_type": "code",
      "execution_count": 16,
      "metadata": {
        "colab": {
          "base_uri": "https://localhost:8080/"
        },
        "id": "otDzF54b2lEA",
        "outputId": "3ebbd3f7-73ac-4aa7-8c28-8b22dd6fe59e"
      },
      "outputs": [
        {
          "name": "stdout",
          "output_type": "stream",
          "text": [
            "tensor([1, 0, 1, 1, 1, 1, 1, 2, 1, 2, 2, 1, 2, 1, 2, 0, 1, 2, 1, 1, 2, 2, 2, 1,\n",
            "        1, 1, 0, 1, 2, 2, 1, 2])\n"
          ]
        }
      ],
      "source": [
        "print(y)"
      ]
    },
    {
      "cell_type": "code",
      "execution_count": 17,
      "metadata": {
        "colab": {
          "base_uri": "https://localhost:8080/"
        },
        "id": "DSf_fZCp2lEA",
        "outputId": "83bb5091-0014-48e0-e545-b9ddc6e3192f"
      },
      "outputs": [
        {
          "name": "stdout",
          "output_type": "stream",
          "text": [
            "torch.Size([32, 256])\n",
            "torch.Size([32])\n"
          ]
        }
      ],
      "source": [
        "for x,y in test_loader:\n",
        "    break\n",
        "print(x.shape)\n",
        "print(y.shape)"
      ]
    },
    {
      "cell_type": "markdown",
      "metadata": {
        "id": "OK8Opkhgp0bO"
      },
      "source": [
        "# Creating the Neural Network Model\n",
        "\n",
        "### I added dropdout with prob 0.1 to try to improve the accuracy"
      ]
    },
    {
      "cell_type": "code",
      "execution_count": 68,
      "metadata": {
        "id": "JK3OO3tAtZkA"
      },
      "outputs": [],
      "source": [
        "class NN_Classifier(nn.Module):\n",
        "  def __init__(self):\n",
        "    super().__init__()\n",
        "\n",
        "    self.input = nn.Linear(256,512)\n",
        "    self.fc1 = nn.Linear(512,256)\n",
        "    self.dropout = nn.Dropout(0.1)\n",
        "    self.fc2 = nn.Linear(256,128)\n",
        "    self.dropout = nn.Dropout(0.1)\n",
        "    self.fc3 = nn.Linear(128,64)\n",
        "    self.dropout = nn.Dropout(0.1)\n",
        "\n",
        "    # Classification OR  output layer\n",
        "    self.output = nn.Linear(64,3)\n",
        "\n",
        "  # Forward pass\n",
        "  def forward(self,x):\n",
        "    # Pass the data through the input layer\n",
        "    x = self.input(x)\n",
        "    x = self.fc1(x)\n",
        "    x = F.relu(x)\n",
        "    x = self.fc2(x)\n",
        "    x = F.relu(x)\n",
        "    x = self.fc3(x)\n",
        "    x = F.relu(x)\n",
        "\n",
        "    # output layer\n",
        "\n",
        "    x = self.output(x)\n",
        "    # X = torch.sigmoid\n",
        "    return x"
      ]
    },
    {
      "cell_type": "code",
      "execution_count": 69,
      "metadata": {
        "id": "stcST8k92lEC"
      },
      "outputs": [],
      "source": [
        "model = NN_Classifier()"
      ]
    },
    {
      "cell_type": "markdown",
      "metadata": {
        "id": "kGoDhKGJyij_"
      },
      "source": [
        "# change the epoch to 101 ot have better accuracy"
      ]
    },
    {
      "cell_type": "code",
      "execution_count": 70,
      "metadata": {
        "colab": {
          "base_uri": "https://localhost:8080/"
        },
        "id": "oVvtSpvX2lEC",
        "outputId": "ce63d31f-39e4-4ae3-f3d2-093149d7758e"
      },
      "outputs": [
        {
          "name": "stdout",
          "output_type": "stream",
          "text": [
            " epochs : 0  loss :  0.96\n",
            " epochs : 5  loss :  0.85\n",
            " epochs : 10  loss :  0.73\n",
            " epochs : 15  loss :  0.90\n",
            " epochs : 20  loss :  0.91\n",
            " epochs : 25  loss :  0.50\n",
            " epochs : 30  loss :  0.66\n",
            " epochs : 35  loss :  0.44\n",
            " epochs : 40  loss :  0.43\n",
            " epochs : 45  loss :  0.49\n",
            " epochs : 50  loss :  0.46\n",
            " epochs : 55  loss :  0.51\n",
            " epochs : 60  loss :  0.33\n",
            " epochs : 65  loss :  0.32\n",
            " epochs : 70  loss :  0.46\n",
            " epochs : 75  loss :  0.29\n",
            " epochs : 80  loss :  0.45\n",
            " epochs : 85  loss :  0.46\n",
            " epochs : 90  loss :  0.42\n",
            " epochs : 95  loss :  0.39\n",
            " epochs : 100  loss :  0.63\n"
          ]
        }
      ],
      "source": [
        "epochs = 101\n",
        "\n",
        "lossfunc = nn.CrossEntropyLoss()\n",
        "\n",
        "optimizer = torch.optim.SGD(model.parameters(), momentum = 0.9, lr = 0.001)\n",
        "\n",
        "\n",
        "model.to(device) # placing a model on GPU\n",
        "\n",
        "# Initialize losses and Accuracies\n",
        "\n",
        "losses    = torch.zeros(epochs)\n",
        "trainAcc  = []\n",
        "testAcc   = []\n",
        "\n",
        "\n",
        "# For Loop for epochs\n",
        "\n",
        "for epoch in range(epochs):\n",
        " model.train()\n",
        "\n",
        " # Loop for training in batches\n",
        "\n",
        " batchAcc  = []\n",
        " batchLoss = []\n",
        "\n",
        " for X,y in train_loader:\n",
        "\n",
        "  X = X.to(device) # Placing features on device\n",
        "  y = y.to(device) # placing labels on device\n",
        "\n",
        "  ypred = model(X)\n",
        "  loss = lossfunc(ypred,y)\n",
        "\n",
        "# Backpropagation\n",
        "\n",
        "  optimizer.zero_grad()\n",
        "  loss.backward()\n",
        "  optimizer.step()\n",
        "\n",
        "  # Append batchloss\n",
        "\n",
        "  batchLoss.append(loss.item())\n",
        "\n",
        "  ypred = ypred.cpu() # Back to cpu\n",
        "  y = y.cpu()\n",
        "\n",
        "  # compute batch accuracy\n",
        "\n",
        "  acc = 100 * torch.mean((torch.argmax(ypred, dim=1) == y).float())\n",
        "  batchAcc.append(acc)\n",
        "\n",
        "# Batch loop concluded\n",
        "\n",
        "# Average training accuracy (Outside the batchloop)\n",
        "\n",
        " trainAcc.append(np.mean(batchAcc))\n",
        "\n",
        "# Losses through epochs\n",
        "\n",
        " losses[epoch] = np.mean(batchLoss)\n",
        "\n",
        "# TESTING the model\n",
        "\n",
        " model.eval()\n",
        " X,y = next(iter(test_loader))\n",
        " X = X.to(device)\n",
        " y = y.to(device)\n",
        "\n",
        " with torch.no_grad(): #This step  Deactivating autogradient\n",
        "  ypred = model(X)\n",
        "  ypred = ypred.cpu()\n",
        "  y = y.cpu()\n",
        "\n",
        " # Appending test accuracy\n",
        "\n",
        "  testAcc.append(100 * torch.mean((torch.argmax(ypred,dim=1)==y).float()))\n",
        "\n",
        "  if (epoch % 5) == 0:\n",
        "        print(f' epochs : {epoch}  loss : {loss : 2.2f}')\n",
        "\n"
      ]
    },
    {
      "cell_type": "markdown",
      "metadata": {
        "id": "OUInwvH92lED"
      },
      "source": [
        "# Plotting and Visualizing the Results"
      ]
    },
    {
      "cell_type": "code",
      "execution_count": 71,
      "metadata": {
        "colab": {
          "base_uri": "https://localhost:8080/",
          "height": 595
        },
        "id": "gHzKOZjnp0qn",
        "outputId": "9781071d-ef56-4bab-a47c-be2adc817608"
      },
      "outputs": [
        {
          "data": {
            "image/png": "[encoded data removed]",
            "text/plain": [
              "<Figure size 1800x600 with 2 Axes>"
            ]
          },
          "metadata": {},
          "output_type": "display_data"
        }
      ],
      "source": [
        "fig,ax = plt.subplots(1,2,figsize=(18,6))\n",
        "\n",
        "ax[0].plot(losses,'g', lw = 3)\n",
        "ax[0].set_xlabel('Epochs', fontsize = 15)\n",
        "ax[0].set_ylabel('Loss', fontsize = 15)\n",
        "ax[0].legend(['Train','Test'], fontsize = 15)\n",
        "ax[0].set_title('Training loss', fontsize = 25)\n",
        "\n",
        "ax[1].plot(trainAcc,label='Training Acc', lw =3)\n",
        "ax[1].plot(testAcc,label='Testing Acc', lw = 3)\n",
        "ax[1].set_xlabel('Epochs', fontsize = 15)\n",
        "ax[1].set_ylabel('Accuracy (%)', fontsize = 15)\n",
        "ax[1].set_ylim([10,100])\n",
        "ax[1].set_title(f'Train Accuracy: {trainAcc[-1]:.2f}% \\n Test Accuracy: {testAcc[-1]:.2f}%', fontsize = 15)\n",
        "ax[1].legend(fontsize = 15)\n",
        "\n",
        "plt.show()"
      ]
    },
    {
      "cell_type": "code",
      "execution_count": null,
      "metadata": {
        "id": "jccRh24T2lEE"
      },
      "outputs": [],
      "source": []
    }
  ],
  "metadata": {
    "accelerator": "GPU",
    "colab": {
      "gpuType": "T4",
      "provenance": []
    },
    "kernelspec": {
      "display_name": "Python 3",
      "name": "python3"
    },
    "language_info": {
      "codemirror_mode": {
        "name": "ipython",
        "version": 3
      },
      "file_extension": ".py",
      "mimetype": "text/x-python",
      "name": "python",
      "nbconvert_exporter": "python",
      "pygments_lexer": "ipython3",
      "version": "3.9.7"
    }
  },
  "nbformat": 4,
  "nbformat_minor": 0
}
