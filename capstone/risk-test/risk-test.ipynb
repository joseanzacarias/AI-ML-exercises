{
 "cells": [
  {
   "cell_type": "code",
   "execution_count": 132,
   "id": "c01beda5-c05f-4d0b-a9be-d63290f5625f",
   "metadata": {},
   "outputs": [],
   "source": [
    "import pandas as pd\n",
    "import numpy as np\n",
    "import seaborn as sns\n",
    "import matplotlib.pyplot as plt\n",
    "from scipy import stats\n",
    "from sklearn.linear_model import LogisticRegression\n",
    "from sklearn.model_selection import train_test_split\n",
    "from scipy.stats import chi2_contingency\n",
    "from sklearn.metrics import confusion_matrix\n",
    "from sklearn.metrics import ConfusionMatrixDisplay\n",
    "from datetime import datetime\n",
    "from sklearn.metrics import accuracy_score, recall_score, precision_score, matthews_corrcoef\n"
   ]
  },
  {
   "cell_type": "code",
   "execution_count": 133,
   "id": "090a87bc",
   "metadata": {},
   "outputs": [
    {
     "data": {
      "text/html": [
       "<div>\n",
       "<style scoped>\n",
       "    .dataframe tbody tr th:only-of-type {\n",
       "        vertical-align: middle;\n",
       "    }\n",
       "\n",
       "    .dataframe tbody tr th {\n",
       "        vertical-align: top;\n",
       "    }\n",
       "\n",
       "    .dataframe thead th {\n",
       "        text-align: right;\n",
       "    }\n",
       "</style>\n",
       "<table border=\"1\" class=\"dataframe\">\n",
       "  <thead>\n",
       "    <tr style=\"text-align: right;\">\n",
       "      <th></th>\n",
       "      <th>ORDER_ID</th>\n",
       "      <th>CLASS</th>\n",
       "      <th>B_EMAIL</th>\n",
       "      <th>B_TELEFON</th>\n",
       "      <th>B_BIRTHDATE</th>\n",
       "      <th>FLAG_LRIDENTISCH</th>\n",
       "      <th>FLAG_NEWSLETTER</th>\n",
       "      <th>Z_METHODE</th>\n",
       "      <th>Z_CARD_ART</th>\n",
       "      <th>Z_CARD_VALID</th>\n",
       "      <th>...</th>\n",
       "      <th>FAIL_RPLZ</th>\n",
       "      <th>FAIL_RORT</th>\n",
       "      <th>FAIL_RPLZORTMATCH</th>\n",
       "      <th>SESSION_TIME</th>\n",
       "      <th>NEUKUNDE</th>\n",
       "      <th>AMOUNT_ORDER_PRE</th>\n",
       "      <th>VALUE_ORDER_PRE</th>\n",
       "      <th>DATE_LORDER</th>\n",
       "      <th>MAHN_AKT</th>\n",
       "      <th>MAHN_HOECHST</th>\n",
       "    </tr>\n",
       "  </thead>\n",
       "  <tbody>\n",
       "    <tr>\n",
       "      <th>29995</th>\n",
       "      <td>49821</td>\n",
       "      <td>no</td>\n",
       "      <td>yes</td>\n",
       "      <td>no</td>\n",
       "      <td>3/3/1981</td>\n",
       "      <td>yes</td>\n",
       "      <td>no</td>\n",
       "      <td>check</td>\n",
       "      <td>?</td>\n",
       "      <td>6.2005</td>\n",
       "      <td>...</td>\n",
       "      <td>no</td>\n",
       "      <td>no</td>\n",
       "      <td>no</td>\n",
       "      <td>10</td>\n",
       "      <td>no</td>\n",
       "      <td>1</td>\n",
       "      <td>40.83</td>\n",
       "      <td>3/9/2002</td>\n",
       "      <td>0</td>\n",
       "      <td>3</td>\n",
       "    </tr>\n",
       "    <tr>\n",
       "      <th>29996</th>\n",
       "      <td>49824</td>\n",
       "      <td>no</td>\n",
       "      <td>yes</td>\n",
       "      <td>no</td>\n",
       "      <td>2/21/1972</td>\n",
       "      <td>no</td>\n",
       "      <td>no</td>\n",
       "      <td>credit_card</td>\n",
       "      <td>Eurocard</td>\n",
       "      <td>5.2005</td>\n",
       "      <td>...</td>\n",
       "      <td>no</td>\n",
       "      <td>no</td>\n",
       "      <td>no</td>\n",
       "      <td>10</td>\n",
       "      <td>no</td>\n",
       "      <td>2</td>\n",
       "      <td>52.84</td>\n",
       "      <td>6/3/2001</td>\n",
       "      <td>0</td>\n",
       "      <td>0</td>\n",
       "    </tr>\n",
       "    <tr>\n",
       "      <th>29997</th>\n",
       "      <td>49825</td>\n",
       "      <td>no</td>\n",
       "      <td>yes</td>\n",
       "      <td>no</td>\n",
       "      <td>6/11/1980</td>\n",
       "      <td>no</td>\n",
       "      <td>no</td>\n",
       "      <td>credit_card</td>\n",
       "      <td>Eurocard</td>\n",
       "      <td>11.2006</td>\n",
       "      <td>...</td>\n",
       "      <td>no</td>\n",
       "      <td>no</td>\n",
       "      <td>no</td>\n",
       "      <td>6</td>\n",
       "      <td>yes</td>\n",
       "      <td>0</td>\n",
       "      <td>0.00</td>\n",
       "      <td>?</td>\n",
       "      <td>?</td>\n",
       "      <td>?</td>\n",
       "    </tr>\n",
       "    <tr>\n",
       "      <th>29998</th>\n",
       "      <td>49828</td>\n",
       "      <td>no</td>\n",
       "      <td>yes</td>\n",
       "      <td>no</td>\n",
       "      <td>12/4/1980</td>\n",
       "      <td>no</td>\n",
       "      <td>no</td>\n",
       "      <td>credit_card</td>\n",
       "      <td>Visa</td>\n",
       "      <td>4.2005</td>\n",
       "      <td>...</td>\n",
       "      <td>no</td>\n",
       "      <td>no</td>\n",
       "      <td>no</td>\n",
       "      <td>6</td>\n",
       "      <td>no</td>\n",
       "      <td>1</td>\n",
       "      <td>42.92</td>\n",
       "      <td>7/1/2001</td>\n",
       "      <td>0</td>\n",
       "      <td>0</td>\n",
       "    </tr>\n",
       "    <tr>\n",
       "      <th>29999</th>\n",
       "      <td>49829</td>\n",
       "      <td>no</td>\n",
       "      <td>yes</td>\n",
       "      <td>no</td>\n",
       "      <td>3/15/1958</td>\n",
       "      <td>no</td>\n",
       "      <td>no</td>\n",
       "      <td>credit_card</td>\n",
       "      <td>Eurocard</td>\n",
       "      <td>4.2006</td>\n",
       "      <td>...</td>\n",
       "      <td>no</td>\n",
       "      <td>no</td>\n",
       "      <td>no</td>\n",
       "      <td>11</td>\n",
       "      <td>no</td>\n",
       "      <td>1</td>\n",
       "      <td>27.29</td>\n",
       "      <td>1/30/2001</td>\n",
       "      <td>0</td>\n",
       "      <td>0</td>\n",
       "    </tr>\n",
       "  </tbody>\n",
       "</table>\n",
       "<p>5 rows × 44 columns</p>\n",
       "</div>"
      ],
      "text/plain": [
       "       ORDER_ID CLASS B_EMAIL B_TELEFON B_BIRTHDATE FLAG_LRIDENTISCH  \\\n",
       "29995     49821    no     yes        no    3/3/1981              yes   \n",
       "29996     49824    no     yes        no   2/21/1972               no   \n",
       "29997     49825    no     yes        no   6/11/1980               no   \n",
       "29998     49828    no     yes        no   12/4/1980               no   \n",
       "29999     49829    no     yes        no   3/15/1958               no   \n",
       "\n",
       "      FLAG_NEWSLETTER    Z_METHODE Z_CARD_ART  Z_CARD_VALID  ... FAIL_RPLZ  \\\n",
       "29995              no        check          ?        6.2005  ...        no   \n",
       "29996              no  credit_card   Eurocard        5.2005  ...        no   \n",
       "29997              no  credit_card   Eurocard       11.2006  ...        no   \n",
       "29998              no  credit_card       Visa        4.2005  ...        no   \n",
       "29999              no  credit_card   Eurocard        4.2006  ...        no   \n",
       "\n",
       "       FAIL_RORT FAIL_RPLZORTMATCH SESSION_TIME  NEUKUNDE  AMOUNT_ORDER_PRE  \\\n",
       "29995         no                no           10        no                 1   \n",
       "29996         no                no           10        no                 2   \n",
       "29997         no                no            6       yes                 0   \n",
       "29998         no                no            6        no                 1   \n",
       "29999         no                no           11        no                 1   \n",
       "\n",
       "      VALUE_ORDER_PRE DATE_LORDER MAHN_AKT MAHN_HOECHST  \n",
       "29995           40.83    3/9/2002        0            3  \n",
       "29996           52.84    6/3/2001        0            0  \n",
       "29997            0.00           ?        ?            ?  \n",
       "29998           42.92    7/1/2001        0            0  \n",
       "29999           27.29   1/30/2001        0            0  \n",
       "\n",
       "[5 rows x 44 columns]"
      ]
     },
     "execution_count": 133,
     "metadata": {},
     "output_type": "execute_result"
    }
   ],
   "source": [
    "train_df = pd.read_csv('risk-train.csv')\n",
    "train_df.tail()\n",
    "# train_df.info"
   ]
  },
  {
   "cell_type": "markdown",
   "id": "89d6cef7-add4-4979-972d-012a581a7056",
   "metadata": {},
   "source": [
    "#### Lets indentify categorical and numerical variables, I will consider columns with 5 or less than 5 different values as categorical (exeption for WEEKDAY_ORDER that have 7 and is obviusly categorical)"
   ]
  },
  {
   "cell_type": "code",
   "execution_count": 134,
   "id": "971d9b7f-2f4c-4a66-b398-1e2059f9884f",
   "metadata": {},
   "outputs": [
    {
     "name": "stdout",
     "output_type": "stream",
     "text": [
      "ORDER_ID             30000\n",
      "CLASS                    2\n",
      "B_EMAIL                  2\n",
      "B_TELEFON                2\n",
      "B_BIRTHDATE          11143\n",
      "FLAG_LRIDENTISCH         2\n",
      "FLAG_NEWSLETTER          2\n",
      "Z_METHODE                4\n",
      "Z_CARD_ART               5\n",
      "Z_CARD_VALID            36\n",
      "Z_LAST_NAME              3\n",
      "VALUE_ORDER           2341\n",
      "WEEKDAY_ORDER            7\n",
      "TIME_ORDER            1440\n",
      "AMOUNT_ORDER             9\n",
      "ANUMMER_01             560\n",
      "ANUMMER_02             561\n",
      "ANUMMER_03             561\n",
      "ANUMMER_04             499\n",
      "ANUMMER_05             348\n",
      "ANUMMER_06             179\n",
      "ANUMMER_07              90\n",
      "ANUMMER_08              34\n",
      "ANUMMER_09               8\n",
      "ANUMMER_10               1\n",
      "CHK_LADR                 2\n",
      "CHK_RADR                 2\n",
      "CHK_KTO                  2\n",
      "CHK_CARD                 2\n",
      "CHK_COOKIE               2\n",
      "CHK_IP                   2\n",
      "FAIL_LPLZ                2\n",
      "FAIL_LORT                2\n",
      "FAIL_LPLZORTMATCH        2\n",
      "FAIL_RPLZ                2\n",
      "FAIL_RORT                2\n",
      "FAIL_RPLZORTMATCH        2\n",
      "SESSION_TIME            24\n",
      "NEUKUNDE                 2\n",
      "AMOUNT_ORDER_PRE         7\n",
      "VALUE_ORDER_PRE       8232\n",
      "DATE_LORDER           1501\n",
      "MAHN_AKT                 5\n",
      "MAHN_HOECHST             5\n",
      "dtype: int64\n",
      "The length of data is 30000\n"
     ]
    }
   ],
   "source": [
    "print(train_df.nunique())\n",
    "print('The length of data is',len(train_df))"
   ]
  },
  {
   "cell_type": "code",
   "execution_count": 135,
   "id": "cfeba283-951e-435c-8ffb-a5f5313479a6",
   "metadata": {},
   "outputs": [],
   "source": [
    "categorical_columns = ['B_EMAIL', 'B_TELEFON', 'FLAG_LRIDENTISCH', 'FLAG_NEWSLETTER', 'Z_METHODE', 'Z_CARD_ART', 'Z_LAST_NAME', 'WEEKDAY_ORDER', 'CHK_LADR', 'CHK_RADR', 'CHK_KTO', 'CHK_CARD', 'CHK_COOKIE', 'CHK_IP', 'FAIL_LPLZ', 'FAIL_LORT', 'FAIL_LPLZORTMATCH', 'FAIL_RPLZ', 'FAIL_RORT', 'FAIL_RPLZORTMATCH', 'NEUKUNDE', 'MAHN_AKT', 'MAHN_HOECHST']\n",
    "numerical_columns = ['VALUE_ORDER', 'AMOUNT_ORDER', 'SESSION_TIME', 'AMOUNT_ORDER_PRE', 'VALUE_ORDER_PRE']\n",
    "\n",
    "# For dates we have to do an extra analisys so I will separate them in a different category\n",
    "date_columns = ['B_BIRTHDATE','Z_CARD_VALID', 'TIME_ORDER', 'DATE_LORDER']\n"
   ]
  },
  {
   "cell_type": "code",
   "execution_count": 136,
   "id": "e619123e-2708-4428-aacd-ba329b4061fb",
   "metadata": {},
   "outputs": [],
   "source": [
    "# To check missing and zero values of a given column\n",
    "def missing_values(column):\n",
    "    missing_values = column.isna().sum() + (column == '?').sum()\n",
    "    zero_values = (column == 0).sum()\n",
    "    return missing_values, zero_values"
   ]
  },
  {
   "cell_type": "code",
   "execution_count": 137,
   "id": "e770d6b1-2b25-4ea9-a666-d7e5e660aecf",
   "metadata": {},
   "outputs": [],
   "source": [
    "def replace_zeros_with_mean(df, column_name, rounded=False):\n",
    "    new_column = df[column_name].copy()\n",
    "    non_zero_values = df.loc[df[column_name] != 0, column_name]\n",
    "    if non_zero_values.empty:\n",
    "        return new_column\n",
    "    \n",
    "    if rounded:\n",
    "        non_zero_mean = int(round(non_zero_values.mean()))\n",
    "    else:\n",
    "        non_zero_mean = non_zero_values.mean()\n",
    "    \n",
    "    new_column = new_column.apply(lambda x: non_zero_mean if x == 0 else x)\n",
    "    return new_column"
   ]
  },
  {
   "cell_type": "markdown",
   "id": "29335f8c-dc96-4a81-ad65-855a5061b7ff",
   "metadata": {},
   "source": [
    "### Numerical vars formatting and analisis"
   ]
  },
  {
   "cell_type": "code",
   "execution_count": 138,
   "id": "4db9fe8a-8d14-4d80-acea-0da912717aba",
   "metadata": {},
   "outputs": [
    {
     "name": "stdout",
     "output_type": "stream",
     "text": [
      "VALUE_ORDER (0, 0)\n",
      "AMOUNT_ORDER (0, 0)\n",
      "SESSION_TIME (0, 0)\n",
      "AMOUNT_ORDER_PRE (0, 15856)\n",
      "VALUE_ORDER_PRE (0, 15856)\n"
     ]
    }
   ],
   "source": [
    "# Check empty spaces and zero values using the function already defined\n",
    "for column in numerical_columns:\n",
    "    print(column, missing_values(train_df[column]))"
   ]
  },
  {
   "cell_type": "markdown",
   "id": "2add5e28-7f9a-4256-b2c3-b5a15276ed7f",
   "metadata": {},
   "source": [
    "#### We can see for the 3 first vars is not necesary to fill mising values but there are too many zero values in the last 2 ones"
   ]
  },
  {
   "cell_type": "markdown",
   "id": "3a5851cc-e941-4518-9496-8ddb8bfa92ed",
   "metadata": {},
   "source": [
    "#### I dont want to remove these rows because represent more than half of the data so lets fill with mean (rounded value for AMOUNT_ORDER_PRE since cannot be a float)"
   ]
  },
  {
   "cell_type": "code",
   "execution_count": 139,
   "id": "4c570ea8-c889-49b8-8178-a3c4550bad74",
   "metadata": {},
   "outputs": [
    {
     "data": {
      "text/html": [
       "<div>\n",
       "<style scoped>\n",
       "    .dataframe tbody tr th:only-of-type {\n",
       "        vertical-align: middle;\n",
       "    }\n",
       "\n",
       "    .dataframe tbody tr th {\n",
       "        vertical-align: top;\n",
       "    }\n",
       "\n",
       "    .dataframe thead th {\n",
       "        text-align: right;\n",
       "    }\n",
       "</style>\n",
       "<table border=\"1\" class=\"dataframe\">\n",
       "  <thead>\n",
       "    <tr style=\"text-align: right;\">\n",
       "      <th></th>\n",
       "      <th>ORDER_ID</th>\n",
       "      <th>CLASS</th>\n",
       "      <th>B_EMAIL</th>\n",
       "      <th>B_TELEFON</th>\n",
       "      <th>B_BIRTHDATE</th>\n",
       "      <th>FLAG_LRIDENTISCH</th>\n",
       "      <th>FLAG_NEWSLETTER</th>\n",
       "      <th>Z_METHODE</th>\n",
       "      <th>Z_CARD_ART</th>\n",
       "      <th>Z_CARD_VALID</th>\n",
       "      <th>...</th>\n",
       "      <th>FAIL_RPLZ</th>\n",
       "      <th>FAIL_RORT</th>\n",
       "      <th>FAIL_RPLZORTMATCH</th>\n",
       "      <th>SESSION_TIME</th>\n",
       "      <th>NEUKUNDE</th>\n",
       "      <th>AMOUNT_ORDER_PRE</th>\n",
       "      <th>VALUE_ORDER_PRE</th>\n",
       "      <th>DATE_LORDER</th>\n",
       "      <th>MAHN_AKT</th>\n",
       "      <th>MAHN_HOECHST</th>\n",
       "    </tr>\n",
       "  </thead>\n",
       "  <tbody>\n",
       "    <tr>\n",
       "      <th>0</th>\n",
       "      <td>49917</td>\n",
       "      <td>no</td>\n",
       "      <td>yes</td>\n",
       "      <td>no</td>\n",
       "      <td>1/17/1973</td>\n",
       "      <td>yes</td>\n",
       "      <td>yes</td>\n",
       "      <td>check</td>\n",
       "      <td>?</td>\n",
       "      <td>5.2006</td>\n",
       "      <td>...</td>\n",
       "      <td>no</td>\n",
       "      <td>no</td>\n",
       "      <td>no</td>\n",
       "      <td>8</td>\n",
       "      <td>yes</td>\n",
       "      <td>1</td>\n",
       "      <td>63.367475</td>\n",
       "      <td>?</td>\n",
       "      <td>?</td>\n",
       "      <td>?</td>\n",
       "    </tr>\n",
       "    <tr>\n",
       "      <th>1</th>\n",
       "      <td>49919</td>\n",
       "      <td>no</td>\n",
       "      <td>yes</td>\n",
       "      <td>yes</td>\n",
       "      <td>12/8/1970</td>\n",
       "      <td>no</td>\n",
       "      <td>no</td>\n",
       "      <td>credit_card</td>\n",
       "      <td>Visa</td>\n",
       "      <td>12.2007</td>\n",
       "      <td>...</td>\n",
       "      <td>yes</td>\n",
       "      <td>no</td>\n",
       "      <td>no</td>\n",
       "      <td>13</td>\n",
       "      <td>yes</td>\n",
       "      <td>1</td>\n",
       "      <td>63.367475</td>\n",
       "      <td>?</td>\n",
       "      <td>?</td>\n",
       "      <td>?</td>\n",
       "    </tr>\n",
       "    <tr>\n",
       "      <th>2</th>\n",
       "      <td>49923</td>\n",
       "      <td>no</td>\n",
       "      <td>yes</td>\n",
       "      <td>no</td>\n",
       "      <td>4/3/1972</td>\n",
       "      <td>yes</td>\n",
       "      <td>no</td>\n",
       "      <td>check</td>\n",
       "      <td>?</td>\n",
       "      <td>12.2007</td>\n",
       "      <td>...</td>\n",
       "      <td>no</td>\n",
       "      <td>no</td>\n",
       "      <td>no</td>\n",
       "      <td>3</td>\n",
       "      <td>yes</td>\n",
       "      <td>1</td>\n",
       "      <td>63.367475</td>\n",
       "      <td>?</td>\n",
       "      <td>?</td>\n",
       "      <td>?</td>\n",
       "    </tr>\n",
       "    <tr>\n",
       "      <th>3</th>\n",
       "      <td>49924</td>\n",
       "      <td>no</td>\n",
       "      <td>no</td>\n",
       "      <td>yes</td>\n",
       "      <td>8/1/1966</td>\n",
       "      <td>yes</td>\n",
       "      <td>no</td>\n",
       "      <td>check</td>\n",
       "      <td>?</td>\n",
       "      <td>1.2007</td>\n",
       "      <td>...</td>\n",
       "      <td>no</td>\n",
       "      <td>no</td>\n",
       "      <td>no</td>\n",
       "      <td>11</td>\n",
       "      <td>no</td>\n",
       "      <td>4</td>\n",
       "      <td>75.720000</td>\n",
       "      <td>5/12/2002</td>\n",
       "      <td>0</td>\n",
       "      <td>0</td>\n",
       "    </tr>\n",
       "    <tr>\n",
       "      <th>4</th>\n",
       "      <td>49927</td>\n",
       "      <td>no</td>\n",
       "      <td>yes</td>\n",
       "      <td>yes</td>\n",
       "      <td>12/21/1969</td>\n",
       "      <td>yes</td>\n",
       "      <td>no</td>\n",
       "      <td>credit_card</td>\n",
       "      <td>Eurocard</td>\n",
       "      <td>12.2006</td>\n",
       "      <td>...</td>\n",
       "      <td>no</td>\n",
       "      <td>no</td>\n",
       "      <td>no</td>\n",
       "      <td>16</td>\n",
       "      <td>yes</td>\n",
       "      <td>1</td>\n",
       "      <td>63.367475</td>\n",
       "      <td>?</td>\n",
       "      <td>?</td>\n",
       "      <td>?</td>\n",
       "    </tr>\n",
       "  </tbody>\n",
       "</table>\n",
       "<p>5 rows × 44 columns</p>\n",
       "</div>"
      ],
      "text/plain": [
       "   ORDER_ID CLASS B_EMAIL B_TELEFON B_BIRTHDATE FLAG_LRIDENTISCH  \\\n",
       "0     49917    no     yes        no   1/17/1973              yes   \n",
       "1     49919    no     yes       yes   12/8/1970               no   \n",
       "2     49923    no     yes        no    4/3/1972              yes   \n",
       "3     49924    no      no       yes    8/1/1966              yes   \n",
       "4     49927    no     yes       yes  12/21/1969              yes   \n",
       "\n",
       "  FLAG_NEWSLETTER    Z_METHODE Z_CARD_ART  Z_CARD_VALID  ... FAIL_RPLZ  \\\n",
       "0             yes        check          ?        5.2006  ...        no   \n",
       "1              no  credit_card       Visa       12.2007  ...       yes   \n",
       "2              no        check          ?       12.2007  ...        no   \n",
       "3              no        check          ?        1.2007  ...        no   \n",
       "4              no  credit_card   Eurocard       12.2006  ...        no   \n",
       "\n",
       "   FAIL_RORT FAIL_RPLZORTMATCH SESSION_TIME  NEUKUNDE  AMOUNT_ORDER_PRE  \\\n",
       "0         no                no            8       yes                 1   \n",
       "1         no                no           13       yes                 1   \n",
       "2         no                no            3       yes                 1   \n",
       "3         no                no           11        no                 4   \n",
       "4         no                no           16       yes                 1   \n",
       "\n",
       "  VALUE_ORDER_PRE DATE_LORDER MAHN_AKT MAHN_HOECHST  \n",
       "0       63.367475           ?        ?            ?  \n",
       "1       63.367475           ?        ?            ?  \n",
       "2       63.367475           ?        ?            ?  \n",
       "3       75.720000   5/12/2002        0            0  \n",
       "4       63.367475           ?        ?            ?  \n",
       "\n",
       "[5 rows x 44 columns]"
      ]
     },
     "execution_count": 139,
     "metadata": {},
     "output_type": "execute_result"
    }
   ],
   "source": [
    "# Numerical vars formatting\n",
    "train_df['AMOUNT_ORDER_PRE'] = replace_zeros_with_mean(train_df, 'AMOUNT_ORDER_PRE', True)\n",
    "train_df['VALUE_ORDER_PRE'] = replace_zeros_with_mean(train_df, 'VALUE_ORDER_PRE')\n",
    "train_df.head()"
   ]
  },
  {
   "cell_type": "code",
   "execution_count": 140,
   "id": "f4d5a4d2-71a4-4970-9c09-11d6683640c1",
   "metadata": {},
   "outputs": [
    {
     "data": {
      "image/png": "[encoded data removed]",
      "text/plain": [
       "<Figure size 2000x500 with 5 Axes>"
      ]
     },
     "metadata": {},
     "output_type": "display_data"
    }
   ],
   "source": [
    "fig, axes = plt.subplots(1, 5, figsize=(20, 5))\n",
    "for idx, col_name in enumerate(numerical_columns):\n",
    "    sns.boxplot(x=train_df[col_name], ax=axes[idx])\n",
    "\n",
    "plt.tight_layout()\n",
    "plt.show()"
   ]
  },
  {
   "cell_type": "markdown",
   "id": "1e8c718f-0a5e-4b05-81f7-243830a816bc",
   "metadata": {},
   "source": [
    "#### Now lets handle the outliers"
   ]
  },
  {
   "cell_type": "code",
   "execution_count": 141,
   "id": "d70f1bb3-2c34-4605-b059-7d8554e3fde5",
   "metadata": {},
   "outputs": [],
   "source": [
    "# Managing outliers\n",
    "def adjust_outliers(df, column_name):\n",
    "    Q1 = df[column_name].quantile(0.25)\n",
    "    Q3 = df[column_name].quantile(0.75)\n",
    "    IQR = Q3 - Q1\n",
    "    \n",
    "    min_val = Q1 - 1.5 * IQR\n",
    "    max_val = Q3 + 1.5 * IQR\n",
    "    \n",
    "    df[column_name] = np.where(df[column_name] < min_val, min_val, df[column_name])\n",
    "    df[column_name] = np.where(df[column_name] > max_val, max_val, df[column_name])\n",
    "    return df[column_name]"
   ]
  },
  {
   "cell_type": "code",
   "execution_count": 142,
   "id": "4f3ef060-b0fb-4251-857d-e413f2a16096",
   "metadata": {},
   "outputs": [
    {
     "data": {
      "image/png": "[encoded data removed]",
      "text/plain": [
       "<Figure size 2000x500 with 5 Axes>"
      ]
     },
     "metadata": {},
     "output_type": "display_data"
    }
   ],
   "source": [
    "fig, axes = plt.subplots(1, 5, figsize=(20, 5))\n",
    "for idx, col_name in enumerate(numerical_columns):\n",
    "    if(col_name != 'AMOUNT_ORDER_PRE' ):\n",
    "        train_df[col_name] = adjust_outliers(train_df, col_name)\n",
    "\n",
    "    sns.boxplot(x=train_df[col_name], ax=axes[idx])\n",
    "\n",
    "plt.tight_layout()\n",
    "plt.show()"
   ]
  },
  {
   "cell_type": "markdown",
   "id": "33311aab-c72e-4701-9762-9553091f8ba4",
   "metadata": {},
   "source": [
    "#### the outliers are cleaned so now Lets use T_test metric to select my predictors (this section is just for the numerical columns)"
   ]
  },
  {
   "cell_type": "code",
   "execution_count": 143,
   "id": "a0152605-5895-42b9-8769-4fc90c3fdef4",
   "metadata": {},
   "outputs": [
    {
     "name": "stdout",
     "output_type": "stream",
     "text": [
      "VALUE_ORDER is NOT significant (p-value = 0.09546065656803636)\n",
      "AMOUNT_ORDER is significant (p-value = 0.005977777748190842)\n",
      "SESSION_TIME is significant (p-value = 6.486405978689233e-23)\n",
      "AMOUNT_ORDER_PRE is significant (p-value = 0.0002139414213478445)\n",
      "VALUE_ORDER_PRE is significant (p-value = 1.3682560699032417e-10)\n",
      "Significant predictors: ['AMOUNT_ORDER', 'SESSION_TIME', 'AMOUNT_ORDER_PRE', 'VALUE_ORDER_PRE']\n"
     ]
    }
   ],
   "source": [
    "significant_predictors = []\n",
    "\n",
    "for column_name in numerical_columns:\n",
    "    group1 = train_df[train_df['CLASS'] == 'yes'][column_name]\n",
    "    group2 = train_df[train_df['CLASS'] == 'no'][column_name]\n",
    "    \n",
    "    t_stat, p_value = stats.ttest_ind(group1, group2)\n",
    "    \n",
    "    if p_value < 0.05:\n",
    "        significant_predictors.append(column_name)\n",
    "        print(f\"{column_name} is significant (p-value = {p_value})\")\n",
    "    else:\n",
    "        print(f\"{column_name} is NOT significant (p-value = {p_value})\")\n",
    "\n",
    "print(\"Significant predictors:\", significant_predictors)"
   ]
  },
  {
   "cell_type": "code",
   "execution_count": 144,
   "id": "9573c7f3-f6aa-4a67-ad1f-b01f941c619c",
   "metadata": {},
   "outputs": [],
   "source": [
    "#Feature Selection using T-statistic\n",
    "df_1=train_df[train_df['CLASS']=='yes'][['VALUE_ORDER', 'AMOUNT_ORDER', 'SESSION_TIME', 'AMOUNT_ORDER_PRE', 'VALUE_ORDER_PRE']]\n",
    "df_0=train_df[train_df['CLASS']=='no'][['VALUE_ORDER', 'AMOUNT_ORDER', 'SESSION_TIME', 'AMOUNT_ORDER_PRE', 'VALUE_ORDER_PRE']]\n",
    "mean_1=np.mean(df_1,axis=0)\n",
    "mean_0=np.mean(df_0,axis=0)\n",
    "std_0=np.std(df_0,axis=0)/len(df_0)\n",
    "std_1=np.std(df_1,axis=0)/len(df_1)\n",
    "t_val=(mean_1-mean_0)/(std_0+std_1)**0.5\n",
    "\n",
    "\n",
    "def get_pvalues(tt,n):\n",
    "    p_val=stats.t.sf(abs(tt),n-1)*2\n",
    "    return p_val\n",
    "p_val=get_pvalues(t_val,len(df_1))\n",
    "confidence=1-p_val"
   ]
  },
  {
   "cell_type": "markdown",
   "id": "caad76e5-c0ea-4fe2-8d61-29401e4641cc",
   "metadata": {},
   "source": [
    "### Categorical vars formatting and analisis"
   ]
  },
  {
   "cell_type": "code",
   "execution_count": 145,
   "id": "dfdfdd07-7598-4c34-ab5f-27d9e633f359",
   "metadata": {},
   "outputs": [
    {
     "name": "stdout",
     "output_type": "stream",
     "text": [
      "B_EMAIL 0\n",
      "B_TELEFON 0\n",
      "FLAG_LRIDENTISCH 0\n",
      "FLAG_NEWSLETTER 0\n",
      "Z_METHODE 0\n",
      "Z_CARD_ART 18654\n",
      "Z_LAST_NAME 14808\n",
      "WEEKDAY_ORDER 0\n",
      "CHK_LADR 0\n",
      "CHK_RADR 0\n",
      "CHK_KTO 0\n",
      "CHK_CARD 0\n",
      "CHK_COOKIE 0\n",
      "CHK_IP 0\n",
      "FAIL_LPLZ 0\n",
      "FAIL_LORT 0\n",
      "FAIL_LPLZORTMATCH 0\n",
      "FAIL_RPLZ 0\n",
      "FAIL_RORT 0\n",
      "FAIL_RPLZORTMATCH 0\n",
      "NEUKUNDE 0\n",
      "MAHN_AKT 15856\n",
      "MAHN_HOECHST 15856\n"
     ]
    }
   ],
   "source": [
    "# Check empty spaces\n",
    "for column in categorical_columns:\n",
    "    print(column, missing_values(train_df[column])[0])"
   ]
  },
  {
   "cell_type": "code",
   "execution_count": 146,
   "id": "6f1cbde6-1331-4296-aed4-d8cb14339158",
   "metadata": {},
   "outputs": [],
   "source": [
    "# Replace missing values of Z_CARD_ART with \"no_card\"\n",
    "train_df.loc[:, 'Z_CARD_ART'] = train_df.loc[:, 'Z_CARD_ART'].replace('?', 'no_card')\n",
    "\n",
    "# Replace missing values of Z_LAST_NAME  with \"no\"\n",
    "train_df.loc[:, 'Z_LAST_NAME'] = train_df.loc[:, 'Z_LAST_NAME'].replace('?', 'no')\n",
    "\n",
    "# Replace missing values of MAHN_AKT and MAHN_HOECHST with \"zeros\"\n",
    "train_df.loc[:, 'MAHN_AKT'] = train_df.loc[:, 'MAHN_AKT'].replace('?', 0)\n",
    "train_df.loc[:, 'MAHN_HOECHST'] = train_df.loc[:, 'MAHN_HOECHST'].replace('?', 0)"
   ]
  },
  {
   "cell_type": "code",
   "execution_count": 147,
   "id": "f80cf9cd-1de3-4418-92f4-e0eb3838dfcc",
   "metadata": {},
   "outputs": [
    {
     "name": "stdout",
     "output_type": "stream",
     "text": [
      "B_EMAIL is significant (p-value = 9.005843537131205e-50)\n",
      "B_TELEFON is significant (p-value = 7.559208497150581e-17)\n",
      "FLAG_LRIDENTISCH is NOT significant (p-value = 0.6201924633478395)\n",
      "FLAG_NEWSLETTER is significant (p-value = 1.233239680602984e-06)\n",
      "Z_METHODE is significant (p-value = 4.8959115945871013e-17)\n",
      "Z_CARD_ART is significant (p-value = 5.879606186617081e-24)\n",
      "Z_LAST_NAME is significant (p-value = 5.711107137892787e-11)\n",
      "WEEKDAY_ORDER is significant (p-value = 2.912351285332683e-12)\n",
      "CHK_LADR is significant (p-value = 5.063872541395484e-23)\n",
      "CHK_RADR is significant (p-value = 1.1816503569307585e-07)\n",
      "CHK_KTO is NOT significant (p-value = 0.12343412041573301)\n",
      "CHK_CARD is NOT significant (p-value = 0.07716089683450886)\n",
      "CHK_COOKIE is significant (p-value = 9.410485077501908e-14)\n",
      "CHK_IP is significant (p-value = 1.85177489461951e-08)\n",
      "FAIL_LPLZ is significant (p-value = 0.04926598058657373)\n",
      "FAIL_LORT is significant (p-value = 6.741205726608488e-10)\n",
      "FAIL_LPLZORTMATCH is NOT significant (p-value = 0.9478371660100915)\n",
      "FAIL_RPLZ is NOT significant (p-value = 0.4015323835828021)\n",
      "FAIL_RORT is significant (p-value = 4.289136449080288e-07)\n",
      "FAIL_RPLZORTMATCH is NOT significant (p-value = 0.8876078650233082)\n",
      "NEUKUNDE is significant (p-value = 3.673125359088957e-65)\n",
      "MAHN_AKT is significant (p-value = 3.2051848982267034e-60)\n",
      "MAHN_HOECHST is significant (p-value = 7.471614866286776e-56)\n",
      "['B_EMAIL', 'B_TELEFON', 'FLAG_NEWSLETTER', 'Z_METHODE', 'Z_CARD_ART', 'Z_LAST_NAME', 'WEEKDAY_ORDER', 'CHK_LADR', 'CHK_RADR', 'CHK_COOKIE', 'CHK_IP', 'FAIL_LPLZ', 'FAIL_LORT', 'FAIL_RORT', 'NEUKUNDE', 'MAHN_AKT', 'MAHN_HOECHST']\n"
     ]
    }
   ],
   "source": [
    "# categorical_vars = ['B_EMAIL', 'B_TELEFON', 'FLAG_LRIDENTISCH', 'FLAG_NEWSLETTER', 'Z_METHODE', 'Z_CARD_ART', 'Z_LAST_NAME', 'WEEKDAY_ORDER', 'CHK_LADR', 'CHK_RADR', 'CHK_KTO', 'CHK_CARD', 'CHK_COOKIE', 'CHK_IP', 'FAIL_LPLZ', 'FAIL_LORT', 'FAIL_LPLZORTMATCH', 'FAIL_RPLZ', 'FAIL_RORT', 'FAIL_RPLZORTMATCH', 'NEUKUNDE', 'MAHN_AKT', 'MAHN_HOECHST']\n",
    "cat_significant_predictors = []\n",
    "\n",
    "for col_name in categorical_columns:\n",
    "    contingency_table = pd.crosstab(train_df[col_name], train_df['CLASS'])\n",
    "    chi2, p, dof, ex = chi2_contingency(contingency_table)\n",
    "    # print(f'Chi-squared Test for {col_name}: p-value = {p}')\n",
    "    if p < 0.05:\n",
    "        cat_significant_predictors.append(col_name)\n",
    "        print(f\"{col_name} is significant (p-value = {p})\")\n",
    "    else:\n",
    "        print(f\"{col_name} is NOT significant (p-value = {p})\")\n",
    "\n",
    "print(cat_significant_predictors)"
   ]
  },
  {
   "cell_type": "code",
   "execution_count": 148,
   "id": "96c14e26-046d-4e2e-ae05-0079d883cad4",
   "metadata": {},
   "outputs": [
    {
     "name": "stdout",
     "output_type": "stream",
     "text": [
      "B_BIRTHDATE (2942, 0)\n",
      "Z_CARD_VALID (0, 0)\n",
      "TIME_ORDER (20, 0)\n",
      "DATE_LORDER (15856, 0)\n"
     ]
    }
   ],
   "source": [
    "date_cols = train_df[['B_BIRTHDATE','Z_CARD_VALID', 'TIME_ORDER', 'DATE_LORDER']]\n",
    "# Check empty spaces\n",
    "for column in date_cols:\n",
    "    print(column, missing_values(train_df[column]))"
   ]
  },
  {
   "cell_type": "code",
   "execution_count": 149,
   "id": "af8c8d06-1c63-47cc-8db0-934b62745e74",
   "metadata": {},
   "outputs": [],
   "source": [
    "def mean_date(df, col_name):\n",
    "    non_empty_dates = df[col_name].loc[df[col_name] != '?']\n",
    "    dates = pd.to_datetime(non_empty_dates, format='%m/%d/%Y')\n",
    "    mean_timestamp = dates.dropna().astype(np.int64).mean()\n",
    "    mean_date = pd.to_datetime(mean_timestamp)\n",
    "    return mean_date"
   ]
  },
  {
   "cell_type": "code",
   "execution_count": 150,
   "id": "95a3e80f-c4f2-46ad-9fac-b6e1e9a361f0",
   "metadata": {},
   "outputs": [],
   "source": [
    "# Filling B_BIRTHDATE empty values with mean date\n",
    "birthday_mean_date = mean_date(train_df.copy(), 'B_BIRTHDATE')\n",
    "train_df.loc[:, 'B_BIRTHDATE'] = train_df.loc[:, 'B_BIRTHDATE'].replace('?', birthday_mean_date)\n",
    "train_df['B_BIRTHDATE'] = pd.to_datetime(train_df['B_BIRTHDATE'], format='%m/%d/%Y')\n",
    "train_df['B_BIRTHDATE_YEAR'] = train_df['B_BIRTHDATE'].dt.year\n",
    "train_df['B_BIRTHDATE_MONTH'] = train_df['B_BIRTHDATE'].dt.year\n",
    "train_df['B_BIRTHDATE_DAY'] = train_df['B_BIRTHDATE'].dt.year\n",
    "train_df.drop(columns=['B_BIRTHDATE'], inplace=True)"
   ]
  },
  {
   "cell_type": "code",
   "execution_count": 151,
   "id": "c06f247b-a72c-4264-81fb-2b41c2f66e7e",
   "metadata": {},
   "outputs": [],
   "source": [
    "# format Z_CARD_VALID\n",
    "Z_CARD_ZVALID_FORMATTED = train_df['Z_CARD_VALID'].astype(str)\n",
    "month_year = Z_CARD_ZVALID_FORMATTED.str.split('.', expand=True)\n",
    "train_df['Z_CARD_VALID'] = pd.to_datetime(month_year[1] + '-' + month_year[0] + '-01')\n",
    "train_df['Z_CARD_VALID_YEAR'] = train_df['Z_CARD_VALID'].dt.year\n",
    "train_df['Z_CARD_VALID_MONTH'] = train_df['Z_CARD_VALID'].dt.year\n",
    "train_df.drop(columns=['Z_CARD_VALID'], inplace=True)"
   ]
  },
  {
   "cell_type": "code",
   "execution_count": 152,
   "id": "f9195f15-a9f1-448a-9747-c44ed44aee94",
   "metadata": {},
   "outputs": [],
   "source": [
    "def classify_time(time_str):\n",
    "    if time_str == '?':\n",
    "        return time_str\n",
    "    time_obj = datetime.strptime(time_str, \"%H:%M\")\n",
    "    hour = time_obj.hour\n",
    "    if 5 <= hour < 8:\n",
    "        return \"early morning\"\n",
    "    elif 8 <= hour < 12:\n",
    "        return \"morning\"\n",
    "    elif 12 <= hour < 18:\n",
    "        return \"afternoon\"\n",
    "    else:\n",
    "        return \"night\""
   ]
  },
  {
   "cell_type": "code",
   "execution_count": 153,
   "id": "f24d1f5f-f23a-498a-b036-91e622c8bc37",
   "metadata": {},
   "outputs": [],
   "source": [
    "# format TIME_ORDER to 4 categories and fill empty values with the mode\n",
    "train_df['TIME_ORDER'] = train_df['TIME_ORDER'].map(classify_time)\n",
    "mode = train_df['TIME_ORDER'] .mode()[0]\n",
    "train_df.loc[:, 'TIME_ORDER'] = train_df.loc[:, 'TIME_ORDER'].replace('?', mode)"
   ]
  },
  {
   "cell_type": "markdown",
   "id": "d622d1ee-4dad-41a7-b689-3ed2497c0b9a",
   "metadata": {},
   "source": [
    "#### I will just clasify this column into is first purchase yes - no, if the value in the column DATE_LORDER is empty I would take this as the first purchase of the customer"
   ]
  },
  {
   "cell_type": "code",
   "execution_count": 154,
   "id": "7b5744fd-e991-4aaa-9879-0e1e81d39314",
   "metadata": {},
   "outputs": [],
   "source": [
    "train_df['IS_FIRST_ORDER'] = train_df['DATE_LORDER'].apply(lambda x: 'yes' if x == '?' else 'no')\n",
    "train_df.drop(columns=['DATE_LORDER'], inplace=True)"
   ]
  },
  {
   "cell_type": "code",
   "execution_count": 155,
   "id": "5a57259c-170f-4202-ada7-a8bfe03eaa40",
   "metadata": {},
   "outputs": [
    {
     "name": "stdout",
     "output_type": "stream",
     "text": [
      "B_BIRTHDATE_YEAR is NOT significant (p-value = 0.1709527977841823)\n",
      "B_BIRTHDATE_MONTH is NOT significant (p-value = 0.1709527977841823)\n",
      "B_BIRTHDATE_DAY is NOT significant (p-value = 0.1709527977841823)\n",
      "Z_CARD_VALID_YEAR is NOT significant (p-value = 0.5458536463894527)\n",
      "Z_CARD_VALID_MONTH is NOT significant (p-value = 0.5458536463894527)\n",
      "TIME_ORDER is NOT significant (p-value = 0.5305786332895732)\n",
      "IS_FIRST_ORDER is significant (p-value = 3.548213054299758e-52)\n",
      "Significant predictors: ['IS_FIRST_ORDER']\n"
     ]
    }
   ],
   "source": [
    "date_significant_predictors = []\n",
    "\n",
    "for column_name in ['B_BIRTHDATE_YEAR', 'B_BIRTHDATE_MONTH', 'B_BIRTHDATE_DAY', 'Z_CARD_VALID_YEAR', 'Z_CARD_VALID_MONTH']:\n",
    "    group1 = train_df[train_df['CLASS'] == 'yes'][column_name]\n",
    "    group2 = train_df[train_df['CLASS'] == 'no'][column_name]\n",
    "    \n",
    "    t_stat, p_value = stats.ttest_ind(group1, group2)\n",
    "    \n",
    "    if p_value < 0.05:\n",
    "        date_significant_predictors.append(column_name)\n",
    "        print(f\"{column_name} is significant (p-value = {p_value})\")\n",
    "    else:\n",
    "        print(f\"{column_name} is NOT significant (p-value = {p_value})\")\n",
    "\n",
    "for col_name in ['TIME_ORDER', 'IS_FIRST_ORDER']:\n",
    "    contingency_table = pd.crosstab(train_df[col_name], train_df['CLASS'])\n",
    "    chi2, p, dof, ex = chi2_contingency(contingency_table)\n",
    "    # print(f'Chi-squared Test for {col_name}: p-value = {p}')\n",
    "    if p < 0.05:\n",
    "        date_significant_predictors.append(col_name)\n",
    "        print(f\"{col_name} is significant (p-value = {p})\")\n",
    "    else:\n",
    "        print(f\"{col_name} is NOT significant (p-value = {p})\")\n",
    "\n",
    "print(\"Significant predictors:\", date_significant_predictors)"
   ]
  },
  {
   "cell_type": "code",
   "execution_count": 156,
   "id": "d3fe064d-3bba-4899-84ad-56814da80f15",
   "metadata": {},
   "outputs": [],
   "source": [
    "columns_to_convert = cat_significant_predictors + date_significant_predictors\n",
    "x = train_df[columns_to_convert + significant_predictors]\n",
    "x = pd.get_dummies(x, columns=columns_to_convert)\n",
    "y = train_df['CLASS'].apply(lambda x: '1' if x == 'yes' else '0')"
   ]
  },
  {
   "cell_type": "code",
   "execution_count": 157,
   "id": "6b42938b-2d62-4503-a50e-1dad473af3ae",
   "metadata": {},
   "outputs": [],
   "source": [
    "x_train, x_test, y_train, y_test = train_test_split(x, y, test_size=0.30, random_state=40)"
   ]
  },
  {
   "cell_type": "code",
   "execution_count": 158,
   "id": "b1ba1b2d-2f4b-4f89-b63a-3592b7f77ed5",
   "metadata": {},
   "outputs": [
    {
     "name": "stdout",
     "output_type": "stream",
     "text": [
      "Accuracy:  0.9416666666666667\n"
     ]
    }
   ],
   "source": [
    "reg = 0.01\n",
    "model = LogisticRegression(C=1/reg, solver=\"liblinear\").fit(x_train, y_train)\n",
    "predictions = model.predict(x_test)\n",
    "print('Accuracy: ', accuracy_score(y_test, predictions))"
   ]
  },
  {
   "cell_type": "code",
   "execution_count": 159,
   "id": "92575c99-8244-42e7-a813-c3ce024fda74",
   "metadata": {},
   "outputs": [
    {
     "data": {
      "text/plain": [
       "<sklearn.metrics._plot.confusion_matrix.ConfusionMatrixDisplay at 0x1735850e4d0>"
      ]
     },
     "execution_count": 159,
     "metadata": {},
     "output_type": "execute_result"
    },
    {
     "data": {
      "image/png": "[encoded data removed]",
      "text/plain": [
       "<Figure size 640x480 with 2 Axes>"
      ]
     },
     "metadata": {},
     "output_type": "display_data"
    }
   ],
   "source": [
    "conf_matrix = confusion_matrix(y_test, predictions)\n",
    "cm_display = ConfusionMatrixDisplay(confusion_matrix = conf_matrix, display_labels = ['high risk', 'low risk'])\n",
    "cm_display.plot()"
   ]
  },
  {
   "cell_type": "markdown",
   "id": "528dff03-2ba6-4120-add5-fd3b95a628d7",
   "metadata": {},
   "source": [
    "## Cleaning and formatting risk-test using the same procedure"
   ]
  },
  {
   "cell_type": "code",
   "execution_count": 160,
   "id": "36d1bae8-333c-4c35-aeb1-e35782ed07a1",
   "metadata": {},
   "outputs": [
    {
     "data": {
      "text/html": [
       "<div>\n",
       "<style scoped>\n",
       "    .dataframe tbody tr th:only-of-type {\n",
       "        vertical-align: middle;\n",
       "    }\n",
       "\n",
       "    .dataframe tbody tr th {\n",
       "        vertical-align: top;\n",
       "    }\n",
       "\n",
       "    .dataframe thead th {\n",
       "        text-align: right;\n",
       "    }\n",
       "</style>\n",
       "<table border=\"1\" class=\"dataframe\">\n",
       "  <thead>\n",
       "    <tr style=\"text-align: right;\">\n",
       "      <th></th>\n",
       "      <th>ORDER_ID</th>\n",
       "      <th>B_EMAIL</th>\n",
       "      <th>B_TELEFON</th>\n",
       "      <th>B_BIRTHDATE</th>\n",
       "      <th>FLAG_LRIDENTISCH</th>\n",
       "      <th>FLAG_NEWSLETTER</th>\n",
       "      <th>Z_METHODE</th>\n",
       "      <th>Z_CARD_ART</th>\n",
       "      <th>Z_CARD_VALID</th>\n",
       "      <th>Z_LAST_NAME</th>\n",
       "      <th>...</th>\n",
       "      <th>FAIL_RPLZ</th>\n",
       "      <th>FAIL_RORT</th>\n",
       "      <th>FAIL_RPLZORTMATCH</th>\n",
       "      <th>SESSION_TIME</th>\n",
       "      <th>NEUKUNDE</th>\n",
       "      <th>AMOUNT_ORDER_PRE</th>\n",
       "      <th>VALUE_ORDER_PRE</th>\n",
       "      <th>DATE_LORDER</th>\n",
       "      <th>MAHN_AKT</th>\n",
       "      <th>MAHN_HOECHST</th>\n",
       "    </tr>\n",
       "  </thead>\n",
       "  <tbody>\n",
       "    <tr>\n",
       "      <th>19995</th>\n",
       "      <td>49820</td>\n",
       "      <td>yes</td>\n",
       "      <td>no</td>\n",
       "      <td>4/14/1965</td>\n",
       "      <td>yes</td>\n",
       "      <td>no</td>\n",
       "      <td>check</td>\n",
       "      <td>?</td>\n",
       "      <td>7.2005</td>\n",
       "      <td>?</td>\n",
       "      <td>...</td>\n",
       "      <td>no</td>\n",
       "      <td>no</td>\n",
       "      <td>no</td>\n",
       "      <td>17</td>\n",
       "      <td>no</td>\n",
       "      <td>1</td>\n",
       "      <td>80.99</td>\n",
       "      <td>2/10/2003</td>\n",
       "      <td>0</td>\n",
       "      <td>0</td>\n",
       "    </tr>\n",
       "    <tr>\n",
       "      <th>19996</th>\n",
       "      <td>49822</td>\n",
       "      <td>yes</td>\n",
       "      <td>no</td>\n",
       "      <td>8/8/1975</td>\n",
       "      <td>no</td>\n",
       "      <td>no</td>\n",
       "      <td>credit_card</td>\n",
       "      <td>Eurocard</td>\n",
       "      <td>3.2007</td>\n",
       "      <td>yes</td>\n",
       "      <td>...</td>\n",
       "      <td>no</td>\n",
       "      <td>no</td>\n",
       "      <td>no</td>\n",
       "      <td>9</td>\n",
       "      <td>yes</td>\n",
       "      <td>0</td>\n",
       "      <td>0.00</td>\n",
       "      <td>?</td>\n",
       "      <td>?</td>\n",
       "      <td>?</td>\n",
       "    </tr>\n",
       "    <tr>\n",
       "      <th>19997</th>\n",
       "      <td>49823</td>\n",
       "      <td>yes</td>\n",
       "      <td>no</td>\n",
       "      <td>5/11/1949</td>\n",
       "      <td>no</td>\n",
       "      <td>no</td>\n",
       "      <td>credit_card</td>\n",
       "      <td>Visa</td>\n",
       "      <td>10.2007</td>\n",
       "      <td>yes</td>\n",
       "      <td>...</td>\n",
       "      <td>no</td>\n",
       "      <td>no</td>\n",
       "      <td>no</td>\n",
       "      <td>9</td>\n",
       "      <td>yes</td>\n",
       "      <td>0</td>\n",
       "      <td>0.00</td>\n",
       "      <td>?</td>\n",
       "      <td>?</td>\n",
       "      <td>?</td>\n",
       "    </tr>\n",
       "    <tr>\n",
       "      <th>19998</th>\n",
       "      <td>49826</td>\n",
       "      <td>yes</td>\n",
       "      <td>no</td>\n",
       "      <td>4/14/1976</td>\n",
       "      <td>no</td>\n",
       "      <td>no</td>\n",
       "      <td>debit_card</td>\n",
       "      <td>debit_card</td>\n",
       "      <td>5.2005</td>\n",
       "      <td>yes</td>\n",
       "      <td>...</td>\n",
       "      <td>no</td>\n",
       "      <td>no</td>\n",
       "      <td>no</td>\n",
       "      <td>12</td>\n",
       "      <td>no</td>\n",
       "      <td>0</td>\n",
       "      <td>0.00</td>\n",
       "      <td>?</td>\n",
       "      <td>?</td>\n",
       "      <td>?</td>\n",
       "    </tr>\n",
       "    <tr>\n",
       "      <th>19999</th>\n",
       "      <td>49827</td>\n",
       "      <td>yes</td>\n",
       "      <td>no</td>\n",
       "      <td>10/21/1976</td>\n",
       "      <td>no</td>\n",
       "      <td>no</td>\n",
       "      <td>debit_note</td>\n",
       "      <td>?</td>\n",
       "      <td>12.2007</td>\n",
       "      <td>yes</td>\n",
       "      <td>...</td>\n",
       "      <td>no</td>\n",
       "      <td>no</td>\n",
       "      <td>no</td>\n",
       "      <td>10</td>\n",
       "      <td>no</td>\n",
       "      <td>1</td>\n",
       "      <td>104.93</td>\n",
       "      <td>12/3/2001</td>\n",
       "      <td>0</td>\n",
       "      <td>2</td>\n",
       "    </tr>\n",
       "  </tbody>\n",
       "</table>\n",
       "<p>5 rows × 43 columns</p>\n",
       "</div>"
      ],
      "text/plain": [
       "       ORDER_ID B_EMAIL B_TELEFON B_BIRTHDATE FLAG_LRIDENTISCH  \\\n",
       "19995     49820     yes        no   4/14/1965              yes   \n",
       "19996     49822     yes        no    8/8/1975               no   \n",
       "19997     49823     yes        no   5/11/1949               no   \n",
       "19998     49826     yes        no   4/14/1976               no   \n",
       "19999     49827     yes        no  10/21/1976               no   \n",
       "\n",
       "      FLAG_NEWSLETTER    Z_METHODE  Z_CARD_ART  Z_CARD_VALID Z_LAST_NAME  ...  \\\n",
       "19995              no        check           ?        7.2005           ?  ...   \n",
       "19996              no  credit_card    Eurocard        3.2007         yes  ...   \n",
       "19997              no  credit_card        Visa       10.2007         yes  ...   \n",
       "19998              no   debit_card  debit_card        5.2005         yes  ...   \n",
       "19999              no   debit_note           ?       12.2007         yes  ...   \n",
       "\n",
       "       FAIL_RPLZ FAIL_RORT FAIL_RPLZORTMATCH  SESSION_TIME  NEUKUNDE  \\\n",
       "19995         no        no                no            17        no   \n",
       "19996         no        no                no             9       yes   \n",
       "19997         no        no                no             9       yes   \n",
       "19998         no        no                no            12        no   \n",
       "19999         no        no                no            10        no   \n",
       "\n",
       "      AMOUNT_ORDER_PRE VALUE_ORDER_PRE DATE_LORDER MAHN_AKT MAHN_HOECHST  \n",
       "19995                1           80.99   2/10/2003        0            0  \n",
       "19996                0            0.00           ?        ?            ?  \n",
       "19997                0            0.00           ?        ?            ?  \n",
       "19998                0            0.00           ?        ?            ?  \n",
       "19999                1          104.93   12/3/2001        0            2  \n",
       "\n",
       "[5 rows x 43 columns]"
      ]
     },
     "execution_count": 160,
     "metadata": {},
     "output_type": "execute_result"
    }
   ],
   "source": [
    "test_df = pd.read_csv('risk-test.csv')\n",
    "test_df.tail()\n",
    "# test_df.info"
   ]
  },
  {
   "cell_type": "code",
   "execution_count": 161,
   "id": "2181a54c-5843-4291-8195-67f81c9da134",
   "metadata": {},
   "outputs": [],
   "source": [
    "test_df['AMOUNT_ORDER_PRE'] = replace_zeros_with_mean(test_df, 'AMOUNT_ORDER_PRE', True)\n",
    "test_df['VALUE_ORDER_PRE'] = replace_zeros_with_mean(test_df, 'VALUE_ORDER_PRE')"
   ]
  },
  {
   "cell_type": "code",
   "execution_count": 162,
   "id": "bcd8f91c-bf5d-45c2-8394-67754fb0c128",
   "metadata": {},
   "outputs": [],
   "source": [
    "for idx, col_name in enumerate(numerical_columns):\n",
    "    if(col_name != 'AMOUNT_ORDER_PRE' ):\n",
    "        test_df[col_name] = adjust_outliers(test_df, col_name)"
   ]
  },
  {
   "cell_type": "code",
   "execution_count": 163,
   "id": "e472adc9-432a-4a1a-a99a-f4df2e1d5fe2",
   "metadata": {},
   "outputs": [],
   "source": [
    "# Replace missing values of Z_CARD_ART with \"no_card\"\n",
    "test_df.loc[:, 'Z_CARD_ART'] = test_df.loc[:, 'Z_CARD_ART'].replace('?', 'no_card')\n",
    "\n",
    "# Replace missing values of Z_LAST_NAME  with \"no\"\n",
    "test_df.loc[:, 'Z_LAST_NAME'] = test_df.loc[:, 'Z_LAST_NAME'].replace('?', 'no')\n",
    "\n",
    "# Replace missing values of MAHN_AKT and MAHN_HOECHST with \"zeros\"\n",
    "test_df.loc[:, 'MAHN_AKT'] = test_df.loc[:, 'MAHN_AKT'].replace('?', 0)\n",
    "test_df.loc[:, 'MAHN_HOECHST'] = test_df.loc[:, 'MAHN_HOECHST'].replace('?', 0)"
   ]
  },
  {
   "cell_type": "code",
   "execution_count": 164,
   "id": "edd33610-6c37-44f2-a23d-389158e72354",
   "metadata": {},
   "outputs": [],
   "source": [
    "# Filling B_BIRTHDATE empty values with mean date and separate columns for day, month and year\n",
    "birthday_mean_date = mean_date(test_df.copy(), 'B_BIRTHDATE')\n",
    "test_df.loc[:, 'B_BIRTHDATE'] = test_df.loc[:, 'B_BIRTHDATE'].replace('?', birthday_mean_date)\n",
    "test_df['B_BIRTHDATE'] = pd.to_datetime(test_df['B_BIRTHDATE'], format='%m/%d/%Y')\n",
    "test_df['B_BIRTHDATE_YEAR'] = test_df['B_BIRTHDATE'].dt.year\n",
    "test_df['B_BIRTHDATE_MONTH'] = test_df['B_BIRTHDATE'].dt.year\n",
    "test_df['B_BIRTHDATE_DAY'] = test_df['B_BIRTHDATE'].dt.year\n",
    "test_df.drop(columns=['B_BIRTHDATE'], inplace=True)"
   ]
  },
  {
   "cell_type": "code",
   "execution_count": 165,
   "id": "76cc6d1f-fb2a-4aa6-b8b6-b57f9a374ec2",
   "metadata": {},
   "outputs": [],
   "source": [
    "# format Z_CARD_VALID\n",
    "Z_CARD_ZVALID_FORMATTED = test_df['Z_CARD_VALID'].astype(str)\n",
    "month_year = Z_CARD_ZVALID_FORMATTED.str.split('.', expand=True)\n",
    "test_df['Z_CARD_VALID'] = pd.to_datetime(month_year[1] + '-' + month_year[0] + '-01')\n",
    "test_df['Z_CARD_VALID_YEAR'] = test_df['Z_CARD_VALID'].dt.year\n",
    "test_df['Z_CARD_VALID_MONTH'] = test_df['Z_CARD_VALID'].dt.year\n",
    "test_df.drop(columns=['Z_CARD_VALID'], inplace=True)"
   ]
  },
  {
   "cell_type": "code",
   "execution_count": 166,
   "id": "e097e074-1271-489e-836b-194beac4e5cc",
   "metadata": {},
   "outputs": [],
   "source": [
    "# format TIME_ORDER to 4 categories and fill empty values with the mode\n",
    "test_df['TIME_ORDER'] = test_df['TIME_ORDER'].map(classify_time)\n",
    "mode = test_df['TIME_ORDER'] .mode()[0]\n",
    "test_df.loc[:, 'TIME_ORDER'] = test_df.loc[:, 'TIME_ORDER'].replace('?', mode)"
   ]
  },
  {
   "cell_type": "code",
   "execution_count": 167,
   "id": "47a4fb6d-c32e-4ee0-a9b4-360840536d3e",
   "metadata": {},
   "outputs": [],
   "source": [
    "test_df['IS_FIRST_ORDER'] = test_df['DATE_LORDER'].apply(lambda x: 'yes' if x == '?' else 'no')\n",
    "test_df.drop(columns=['DATE_LORDER'], inplace=True)"
   ]
  },
  {
   "cell_type": "code",
   "execution_count": 168,
   "id": "bfb77ea9-c521-4822-9b2f-2e92a2398383",
   "metadata": {},
   "outputs": [],
   "source": [
    "real_x = test_df[columns_to_convert + significant_predictors]\n",
    "real_x = pd.get_dummies(real_x, columns=columns_to_convert) #test_df data ready to predict"
   ]
  },
  {
   "cell_type": "markdown",
   "id": "8a45aac2-955e-4911-9d6f-67ea1b4ae981",
   "metadata": {},
   "source": [
    "#### Predicting risk-test"
   ]
  },
  {
   "cell_type": "code",
   "execution_count": 169,
   "id": "a967e9ad-df01-4775-92e9-33eba4d4ca23",
   "metadata": {},
   "outputs": [
    {
     "data": {
      "text/plain": [
       "array(['0', '0', '0', ..., '0', '0', '0'], dtype=object)"
      ]
     },
     "execution_count": 169,
     "metadata": {},
     "output_type": "execute_result"
    }
   ],
   "source": [
    "test_pred = model.predict(real_x)\n",
    "test_pred"
   ]
  },
  {
   "cell_type": "code",
   "execution_count": 174,
   "id": "c0c4ca42-0ca3-4b0e-90d1-59136803fb96",
   "metadata": {},
   "outputs": [],
   "source": [
    "# Generating file with results\n",
    "result_df = pd.DataFrame({\n",
    "    'ORDER_ID': test_df['ORDER_ID'],\n",
    "    'CLASS': test_pred\n",
    "})\n",
    "result_df['CLASS'].replace({'0': 'no', '1': 'yes'}, inplace=True)\n",
    "result_df.to_csv('risk-output.txt', index=False, sep='\\t')"
   ]
  },
  {
   "cell_type": "code",
   "execution_count": null,
   "id": "7832e718-c887-4664-acf5-e6d5c2fececd",
   "metadata": {},
   "outputs": [],
   "source": []
  }
 ],
 "metadata": {
  "kernelspec": {
   "display_name": "Python 3 (ipykernel)",
   "language": "python",
   "name": "python3"
  },
  "language_info": {
   "codemirror_mode": {
    "name": "ipython",
    "version": 3
   },
   "file_extension": ".py",
   "mimetype": "text/x-python",
   "name": "python",
   "nbconvert_exporter": "python",
   "pygments_lexer": "ipython3",
   "version": "3.11.7"
  }
 },
 "nbformat": 4,
 "nbformat_minor": 5
}
