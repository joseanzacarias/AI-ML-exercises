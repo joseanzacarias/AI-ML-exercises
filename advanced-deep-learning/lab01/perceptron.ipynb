{
 "cells": [
  {
   "cell_type": "markdown",
   "id": "85c293c7",
   "metadata": {},
   "source": [
    "# Lab 01"
   ]
  },
  {
   "cell_type": "markdown",
   "id": "5df541c0",
   "metadata": {},
   "source": [
    "#### Im using the same code from the file c1e1_perceptron_learning but Im changing the prediction for y_train_AND and y_train_OR"
   ]
  },
  {
   "cell_type": "code",
   "execution_count": 6,
   "id": "59091ba5-92d2-4781-ad30-b7908fe88020",
   "metadata": {},
   "outputs": [
    {
     "name": "stdout",
     "output_type": "stream",
     "text": [
      "w0 =  0.20 , w1 = -0.60 , w2 =  0.25\n"
     ]
    }
   ],
   "source": [
    "import random\n",
    "\n",
    "def show_learning(w):\n",
    "    print('w0 =', '%5.2f' % w[0], ', w1 =', '%5.2f' % w[1],\n",
    "          ', w2 =', '%5.2f' % w[2])\n",
    "\n",
    "random.seed(7)\n",
    "LEARNING_RATE = 0.1\n",
    "index_list = [0, 1, 2, 3] # Used to randomize order\n",
    "\n",
    "# Define training examples.\n",
    "x_train = [(1.0, -1.0, -1.0), (1.0, -1.0, 1.0),\n",
    "    (1.0, 1.0, -1.0), (1.0, 1.0, 1.0)] # Inputs are the same for both cases (AND and OR)\n",
    "y_train_AND = [-1.0, -1.0, -1.0, 1.0] # Output for AND\n",
    "y_train_OR = [-1.0, 1.0, 1.0, 1.0] # Output for OR\n",
    "\n",
    "# Define perceptron weights.\n",
    "w = [0.2, -0.6, 0.25] # Initialize to some \"random\" numbers\n",
    "\n",
    "# Print initial weights.\n",
    "show_learning(w)"
   ]
  },
  {
   "cell_type": "code",
   "execution_count": 7,
   "id": "b8c6b5e6",
   "metadata": {},
   "outputs": [],
   "source": [
    "# First element in vector x must be 1.\n",
    "# Length of w and x must be n+1 for neuron with n inputs.\n",
    "def compute_output(w, x):\n",
    "    z = 0.0\n",
    "    for i in range(len(w)):\n",
    "        z += x[i] * w[i] # Compute sum of weighted inputs\n",
    "    if z < 0: # Apply sign function\n",
    "        return -1\n",
    "    else:\n",
    "        return 1\n",
    "\n"
   ]
  },
  {
   "cell_type": "markdown",
   "id": "02415685",
   "metadata": {},
   "source": [
    "#### I make the training loop a function in order to receive different predictions, this code works for both cases ANd and OR"
   ]
  },
  {
   "cell_type": "code",
   "execution_count": 8,
   "id": "e5f8990c",
   "metadata": {},
   "outputs": [],
   "source": [
    "# Perceptron training loop.\n",
    "def training_loop(y_train):\n",
    "  all_correct = False\n",
    "  final_outputs = []\n",
    "  while not all_correct:\n",
    "      final_outputs = []\n",
    "      all_correct = True\n",
    "      random.shuffle(index_list) # Randomize order\n",
    "      for i in index_list:\n",
    "          x = x_train[i]\n",
    "          y = y_train[i]\n",
    "          p_out = compute_output(w, x) # Perceptron function\n",
    "          if y != p_out: # Update weights when wrong\n",
    "              # print(y, \"different\", p_out)\n",
    "              for j in range(0, len(w)):\n",
    "                  w[j] += (y * LEARNING_RATE * x[j])\n",
    "              all_correct = False\n",
    "          else:\n",
    "              final_outputs.append((p_out, y))\n",
    "  return final_outputs\n",
    "\n"
   ]
  },
  {
   "cell_type": "markdown",
   "id": "c598f6c3",
   "metadata": {},
   "source": [
    "#### Ouputs for AND "
   ]
  },
  {
   "cell_type": "code",
   "execution_count": 9,
   "id": "14da5e18",
   "metadata": {},
   "outputs": [
    {
     "name": "stdout",
     "output_type": "stream",
     "text": [
      "output:  -1 pred:  -1.0\n",
      "output:  -1 pred:  -1.0\n",
      "output:  1 pred:  1.0\n",
      "output:  -1 pred:  -1.0\n"
     ]
    }
   ],
   "source": [
    "outputs = training_loop(y_train_AND)\n",
    "for i in outputs:\n",
    "    print(\"output: \", i[0], \"pred: \", i[1])"
   ]
  },
  {
   "cell_type": "markdown",
   "id": "e8b81af9",
   "metadata": {},
   "source": [
    "#### Outputs for OR"
   ]
  },
  {
   "cell_type": "code",
   "execution_count": 10,
   "id": "30dcfb62",
   "metadata": {},
   "outputs": [
    {
     "name": "stdout",
     "output_type": "stream",
     "text": [
      "output:  1 pred:  1.0\n",
      "output:  1 pred:  1.0\n",
      "output:  -1 pred:  -1.0\n",
      "output:  1 pred:  1.0\n"
     ]
    }
   ],
   "source": [
    "outputs = training_loop(y_train_OR)\n",
    "for i in outputs:\n",
    "    print(\"output: \", i[0], \"pred: \", i[1])"
   ]
  }
 ],
 "metadata": {
  "kernelspec": {
   "display_name": "Python 3 (ipykernel)",
   "language": "python",
   "name": "python3"
  },
  "language_info": {
   "codemirror_mode": {
    "name": "ipython",
    "version": 3
   },
   "file_extension": ".py",
   "mimetype": "text/x-python",
   "name": "python",
   "nbconvert_exporter": "python",
   "pygments_lexer": "ipython3",
   "version": "3.12.4"
  }
 },
 "nbformat": 4,
 "nbformat_minor": 5
}
