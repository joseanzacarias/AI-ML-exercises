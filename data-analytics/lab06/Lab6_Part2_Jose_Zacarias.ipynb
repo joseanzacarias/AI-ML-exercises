{
 "cells": [
  {
   "cell_type": "markdown",
   "id": "08cbeeb2",
   "metadata": {},
   "source": [
    "# Lab6_Part_2-Hypothesis Testion"
   ]
  },
  {
   "cell_type": "markdown",
   "id": "c80f35b6",
   "metadata": {},
   "source": [
    "Choose the best Test and apply."
   ]
  },
  {
   "cell_type": "markdown",
   "id": "591c8142",
   "metadata": {},
   "source": [
    "### Question1:"
   ]
  },
  {
   "cell_type": "markdown",
   "id": "a4bcb0d8",
   "metadata": {},
   "source": [
    "suppose we want to know whether or not the mean weight of a certain species of some turtle is equal to 310 pounds.\n",
    "\n",
    "To test this, we go out and collect a simple random sample of turtles with the following weights:\n",
    "\n",
    "Weights: 300, 315, 320, 311, 314, 309, 300, 308, 305, 303, 305, 301, 303"
   ]
  },
  {
   "cell_type": "code",
   "execution_count": 1,
   "id": "a19789c0",
   "metadata": {},
   "outputs": [
    {
     "data": {
      "text/plain": [
       "(-1.5848116313861254, 0.1389944275158753)"
      ]
     },
     "execution_count": 1,
     "metadata": {},
     "output_type": "execute_result"
    }
   ],
   "source": [
    "import numpy as np\n",
    "from scipy import stats\n",
    "\n",
    "weights = [300, 315, 320, 311, 314, 309, 300, 308, 305, 303, 305, 301, 303]\n",
    "\n",
    "mu = 310\n",
    "t_statistic, p_value = stats.ttest_1samp(weights, mu)\n",
    "t_statistic, p_value"
   ]
  },
  {
   "cell_type": "markdown",
   "id": "63d30513",
   "metadata": {},
   "source": [
    "- the t-statistic of -1.585 indicates that the sample mean is 1.585 standard errors below the hypothesized mean of 310 pounds.\n",
    "- The p-value of 0.139 means there is a 13.9% chance of observing a sample mean as extreme as 300.923 (the sample mean) if the true population mean were 310 pounds."
   ]
  },
  {
   "cell_type": "markdown",
   "id": "18185e25",
   "metadata": {},
   "source": [
    "### Conclusion\n",
    "There is not enough evidence to conclude that the mean weight of the turtle species is different from 310 pounds."
   ]
  },
  {
   "cell_type": "markdown",
   "id": "e79e1264",
   "metadata": {},
   "source": [
    "### Question2:"
   ]
  },
  {
   "cell_type": "markdown",
   "id": "e5619c13",
   "metadata": {},
   "source": [
    "suppose we want to know whether or not the mean weight between two different species of turtles is equal.\n",
    "\n",
    "To test this, we collect a simple random sample of turtles from each species with the following weights:\n",
    "\n",
    "Sample 1: 300, 315, 320, 311, 314, 309, 300, 308, 305, 303, 305, 301, 303\n",
    "\n",
    "Sample 2: 335, 329, 322, 321, 324, 319, 304, 308, 305, 311, 307, 300, 305"
   ]
  },
  {
   "cell_type": "code",
   "execution_count": 2,
   "id": "193ce121",
   "metadata": {},
   "outputs": [
    {
     "data": {
      "text/plain": [
       "(-2.10090292575557, 0.04633501389516513)"
      ]
     },
     "execution_count": 2,
     "metadata": {},
     "output_type": "execute_result"
    }
   ],
   "source": [
    "sample1 = [300, 315, 320, 311, 314, 309, 300, 308, 305, 303, 305, 301, 303]\n",
    "sample2 = [335, 329, 322, 321, 324, 319, 304, 308, 305, 311, 307, 300, 305]\n",
    "\n",
    "t_statistic, p_value = stats.ttest_ind(sample1, sample2)\n",
    "t_statistic, p_value"
   ]
  },
  {
   "cell_type": "markdown",
   "id": "082a5672",
   "metadata": {},
   "source": [
    "### Conclusion\n",
    "There is enough evidence to conclude that the mean weights of the two turtle species are different"
   ]
  },
  {
   "cell_type": "markdown",
   "id": "f26bd8c8",
   "metadata": {},
   "source": [
    "### Question3:\n"
   ]
  },
  {
   "cell_type": "markdown",
   "id": "e3982a1b",
   "metadata": {},
   "source": [
    "suppose we want to know whether or not a certain training program is able to increase the max vertical jump (in inches) of basketball players."
   ]
  },
  {
   "cell_type": "markdown",
   "id": "077d598f",
   "metadata": {},
   "source": [
    "The following data shows the max jump height (in inches) before and after using the training program for each player:\n",
    "\n",
    "Before: 22, 24, 20, 19, 19, 20, 22, 25, 24, 23, 22, 21\n",
    "\n",
    "After: 23, 25, 20, 24, 18, 22, 23, 28, 24, 25, 24, 20"
   ]
  },
  {
   "cell_type": "code",
   "execution_count": 3,
   "id": "4224b2cf",
   "metadata": {},
   "outputs": [
    {
     "data": {
      "text/plain": [
       "(-2.5289026942943655, 0.02802807458682508)"
      ]
     },
     "execution_count": 3,
     "metadata": {},
     "output_type": "execute_result"
    }
   ],
   "source": [
    "before = [22, 24, 20, 19, 19, 20, 22, 25, 24, 23, 22, 21]\n",
    "after = [23, 25, 20, 24, 18, 22, 23, 28, 24, 25, 24, 20]\n",
    "t_statistic, p_value = stats.ttest_rel(before, after)\n",
    "t_statistic, p_value"
   ]
  },
  {
   "cell_type": "markdown",
   "id": "bada022e",
   "metadata": {},
   "source": [
    "### Conclusion\n",
    "There is enough evidence to conclude that the training program has significantly increased the max vertical jump of the basketball players. ​"
   ]
  }
 ],
 "metadata": {
  "kernelspec": {
   "display_name": "Python 3 (ipykernel)",
   "language": "python",
   "name": "python3"
  },
  "language_info": {
   "codemirror_mode": {
    "name": "ipython",
    "version": 3
   },
   "file_extension": ".py",
   "mimetype": "text/x-python",
   "name": "python",
   "nbconvert_exporter": "python",
   "pygments_lexer": "ipython3",
   "version": "3.11.7"
  }
 },
 "nbformat": 4,
 "nbformat_minor": 5
}
